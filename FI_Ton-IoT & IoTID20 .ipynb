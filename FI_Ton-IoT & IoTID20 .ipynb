{
 "cells": [
  {
   "cell_type": "code",
   "execution_count": null,
   "id": "f314454f",
   "metadata": {},
   "outputs": [],
   "source": [
    "import pandas as pd\n",
    "from sklearn.svm import SVC\n",
    "from sklearn.model_selection import GridSearchCV\n",
    "from sklearn.metrics import classification_report, confusion_matrix\n",
    "from sklearn.model_selection import train_test_split\n",
    "import time\n",
    "import numpy as np\n",
    "import seaborn as sns\n",
    "import matplotlib.pyplot as plt\n",
    "from sklearn.preprocessing import LabelEncoder"
   ]
  },
  {
   "cell_type": "code",
   "execution_count": null,
   "id": "3b3bacaa",
   "metadata": {},
   "outputs": [],
   "source": [
    "tond = pd.read_csv(\"type_before_pre_ton.csv\")"
   ]
  },
  {
   "cell_type": "code",
   "execution_count": null,
   "id": "fbf10f6f",
   "metadata": {},
   "outputs": [],
   "source": [
    "iot20 = pd.read_csv(\"iot2020.csv\")"
   ]
  },
  {
   "cell_type": "code",
   "execution_count": null,
   "id": "bea84086",
   "metadata": {},
   "outputs": [],
   "source": [
    "#5:5 비율을 맞추기 위해 ton-iot의 개수만큼 랜덤 추출\n",
    "iot20 = iot20.sample(n=461043, replace=False, axis=0)"
   ]
  },
  {
   "cell_type": "code",
   "execution_count": null,
   "id": "6d958c74",
   "metadata": {},
   "outputs": [],
   "source": [
    "del tond['Unnamed: 0'] "
   ]
  },
  {
   "cell_type": "code",
   "execution_count": null,
   "id": "b6ebfcd7",
   "metadata": {},
   "outputs": [],
   "source": [
    "tond['type'].value_counts()"
   ]
  },
  {
   "cell_type": "code",
   "execution_count": null,
   "id": "d5292e11",
   "metadata": {},
   "outputs": [],
   "source": [
    "#feature명 통일\n",
    "tond.rename(columns={'type':'Cat'})"
   ]
  },
  {
   "cell_type": "code",
   "execution_count": null,
   "id": "8e70b7e5",
   "metadata": {},
   "outputs": [],
   "source": [
    "#공격명 통일\n",
    "iot20 = iot20.replace('Normal', 'normal' )\n",
    "iot20 = iot20.replace('DoS', 'dos' )\n",
    "iot20 = iot20.replace('MITM ARP Spoofing', 'mitm' )\n",
    "iot20 = iot20.replace('Scan', 'scanning' )"
   ]
  },
  {
   "cell_type": "code",
   "execution_count": null,
   "id": "bee91775",
   "metadata": {},
   "outputs": [],
   "source": [
    "iot20 = pd.get_dummies(iotd, columns=['conn_state'])  "
   ]
  },
  {
   "cell_type": "code",
   "execution_count": null,
   "id": "114e0e9f",
   "metadata": {},
   "outputs": [],
   "source": [
    "iot20 = iot20.drop(columns=[ 'Label','Sub_Cat','Flow_ID', 'Src_IP', 'Dst_IP',  'Timestamp', 'Src_IP', 'Src_Port', 'Dst_IP', 'Dst_Port'])"
   ]
  },
  {
   "cell_type": "code",
   "execution_count": null,
   "id": "1550eb40",
   "metadata": {},
   "outputs": [],
   "source": [
    "tond = tond.drop(columns=[ 'ts', 'src_port', 'dst_port'])"
   ]
  },
  {
   "cell_type": "code",
   "execution_count": null,
   "id": "dc5b76e7",
   "metadata": {},
   "outputs": [],
   "source": [
    "#feature명 통일\n",
    "tond= tond.rename(columns={'duration':'Flow_Duration','src_pkts':'Tot_Fwd_Pkts', 'dst_pkts':'Tot_Bwd_Pkts', 'proto':'Protocol', 'src_bytes':'Fwd_Pkt_Len_Mean' , 'dst_bytes':'Bwd_Pkt_Len_Mean', 'src_ip_bytes':'Fwd_Pkts/s', 'dst_ip_bytes':'Bwd_Pkts/s', 'type':'Cat', 'ts':'Timestamp', 'src_port':'Src_Port', 'dst_port':'Dst_Port', 'label':'Label'})"
   ]
  },
  {
   "cell_type": "code",
   "execution_count": null,
   "id": "13e653ed",
   "metadata": {},
   "outputs": [],
   "source": [
    "df_merge = df_merge.drop(columns=['Label'])"
   ]
  },
  {
   "cell_type": "code",
   "execution_count": null,
   "id": "685018ff",
   "metadata": {},
   "outputs": [],
   "source": [
    "#데이터 합치기\n",
    "frames = [iot20, tond]\n",
    "df_merge = pd.concat(frames)"
   ]
  },
  {
   "cell_type": "code",
   "execution_count": null,
   "id": "3851be71",
   "metadata": {},
   "outputs": [],
   "source": [
    "#결측값 존재 여부 확인\n",
    "df_merge.isna().sum()"
   ]
  },
  {
   "cell_type": "code",
   "execution_count": null,
   "id": "f9807144",
   "metadata": {},
   "outputs": [],
   "source": [
    "#결측값 채우기\n",
    "tond.fillna(-1,inplace=True)\n",
    "iot20.fillna(-1,inplace=True)\n",
    "df_merge.fillna(-1,inplace=True)"
   ]
  },
  {
   "cell_type": "code",
   "execution_count": null,
   "id": "9f8ceb01",
   "metadata": {},
   "outputs": [],
   "source": [
    "iot20['Init_Bwd_Win_Byts']=np.NaN\n",
    "iot20['Flow_Pkts/s']=np.NaN\n",
    "iot20['Flow_IAT_Max']=np.NaN\n",
    "iot20['Bwd_IAT_Tot']=np.NaN\n",
    "\n",
    "ton['conn_state']=np.NaN\n",
    "ton['service']=np.NaN"
   ]
  },
  {
   "cell_type": "code",
   "execution_count": null,
   "id": "0d9f0535",
   "metadata": {},
   "outputs": [],
   "source": [
    "from sklearn.ensemble import RandomForestClassifier\n",
    "\n",
    "RF = RandomForestClassifier()"
   ]
  },
  {
   "cell_type": "code",
   "execution_count": null,
   "id": "25817934",
   "metadata": {},
   "outputs": [],
   "source": [
    "X = df_merge[['Protocol', 'Flow_Duration', 'Fwd_Pkt_Len_Mean', 'Bwd_Pkt_Len_Mean', 'Tot_Fwd_Pkts', 'Fwd_Pkts/s', 'Tot_Bwd_Pkts', 'Bwd_Pkts/s', 'conn_state', 'Init_Bwd_Win_Byts', 'Flow_Pkts/s', 'Bwd_IAT_Tot', 'service', 'Flow_IAT_Max']]\n",
    "Y = df_merge['Cat']\n",
    "X_train, X_test, Y_train, Y_test = train_test_split(X, Y, random_state=10, test_size=0.2)"
   ]
  },
  {
   "cell_type": "code",
   "execution_count": null,
   "id": "e85fbca4",
   "metadata": {},
   "outputs": [],
   "source": [
    "Z = iot20[['Protocol', 'Flow_Duration', 'Fwd_Pkt_Len_Mean', 'Bwd_Pkt_Len_Mean', 'Tot_Fwd_Pkts', 'Fwd_Pkts/s', 'Tot_Bwd_Pkts', 'Bwd_Pkts/s', 'conn_state', 'Init_Bwd_Win_Byts', 'Flow_Pkts/s', 'Bwd_IAT_Tot', 'service', 'Flow_IAT_Max']]\n",
    "W = iot20['Cat']\n",
    "Z_train, Z_test, W_train, W_test = train_test_split(Z, W, random_state=10, test_size=0.4)"
   ]
  },
  {
   "cell_type": "code",
   "execution_count": null,
   "id": "57aa7383",
   "metadata": {},
   "outputs": [],
   "source": [
    "start = time.time()\n",
    "print('program start...')\n",
    "print()\n",
    "\n",
    "RF.fit(X_train, Y_train)  # fit() : 훈련 수행\n",
    "print()\n",
    "print('prediction:')\n",
    "y_pred = RF.predict(X_test)  # predict() : 모델 훈련 후 예측\n",
    "print(y_pred)\n",
    "print()\n",
    "\n",
    "print('Score:')\n",
    "score = RF.score(X_test,Y_test)  # score() : 평가 점수 계산\n",
    "print(score)\n",
    "\n",
    "end = time.time()  # 현재 시각 구하기\n",
    "print('program end...')\n",
    "print()\n",
    "print('time cost: ')\n",
    "print(end - start, 'seconds')\n",
    "print(\"Classifiction Report :\")\n",
    "print(classification_report(Y_test, y_pred))"
   ]
  }
 ],
 "metadata": {
  "kernelspec": {
   "display_name": "Python 3",
   "language": "python",
   "name": "python3"
  },
  "language_info": {
   "codemirror_mode": {
    "name": "ipython",
    "version": 3
   },
   "file_extension": ".py",
   "mimetype": "text/x-python",
   "name": "python",
   "nbconvert_exporter": "python",
   "pygments_lexer": "ipython3",
   "version": "3.8.8"
  }
 },
 "nbformat": 4,
 "nbformat_minor": 5
}
