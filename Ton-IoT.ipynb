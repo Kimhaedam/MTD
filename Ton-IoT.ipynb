{
 "cells": [
  {
   "cell_type": "code",
   "execution_count": null,
   "id": "8fa6641a",
   "metadata": {},
   "outputs": [],
   "source": [
    "import pandas as pd"
   ]
  },
  {
   "cell_type": "code",
   "execution_count": null,
   "id": "714a19c7",
   "metadata": {},
   "outputs": [],
   "source": [
    "# object 타입의 데이터로 이루어져 있어 각 요소를 숫자로 매핑함"
   ]
  },
  {
   "cell_type": "code",
   "execution_count": null,
   "id": "3ad5ecd2",
   "metadata": {},
   "outputs": [],
   "source": [
    "df_p = pd.read_csv('Train_Test_Network.csv')"
   ]
  },
  {
   "cell_type": "code",
   "execution_count": null,
   "id": "2aa61d4d",
   "metadata": {},
   "outputs": [],
   "source": [
    "df_p['proto'] = df_p['proto'].replace('tcp',6)\n",
    "df_p['proto'] = df_p['proto'].replace('udp',17)\n",
    "df_p['proto'] = df_p['proto'].replace('icmp',1)"
   ]
  },
  {
   "cell_type": "code",
   "execution_count": null,
   "id": "afdc999c",
   "metadata": {},
   "outputs": [],
   "source": [
    "df_p['service'] = df_p['service'].replace('-',0)\n",
    "df_p['service'] = df_p['service'].replace('dns',1)\n",
    "df_p['service'] = df_p['service'].replace('http',2)\n",
    "df_p['service'] = df_p['service'].replace('ssl',3)\n",
    "df_p['service'] = df_p['service'].replace('ftp',4)\n",
    "df_p['service'] = df_p['service'].replace('gssapi',5)\n",
    "df_p['service'] = df_p['service'].replace('dce_rpc',6)\n",
    "df_p['service'] = df_p['service'].replace('smb',7)\n",
    "df_p['service'] = df_p['service'].replace('dhcp',8)\n",
    "df_p['service'] = df_p['service'].replace('smb;gssapi',9)"
   ]
  },
  {
   "cell_type": "code",
   "execution_count": null,
   "id": "3e31efa0",
   "metadata": {},
   "outputs": [],
   "source": [
    "df_p['conn_state'] = df_p['conn_state'].replace('SF',0)\n",
    "df_p['conn_state'] = df_p['conn_state'].replace('S0',1)\n",
    "df_p['conn_state'] = df_p['conn_state'].replace('OTH',2)\n",
    "df_p['conn_state'] = df_p['conn_state'].replace('REJ',3)\n",
    "df_p['conn_state'] = df_p['conn_state'].replace('SHR',4)\n",
    "df_p['conn_state'] = df_p['conn_state'].replace('SH',5)\n",
    "df_p['conn_state'] = df_p['conn_state'].replace('S1',6)\n",
    "df_p['conn_state'] = df_p['conn_state'].replace('S3',7)\n",
    "df_p['conn_state'] = df_p['conn_state'].replace('RSTR',8)\n",
    "df_p['conn_state'] = df_p['conn_state'].replace('RSTRH',9)\n",
    "df_p['conn_state'] = df_p['conn_state'].replace('RSTO',10)\n",
    "df_p['conn_state'] = df_p['conn_state'].replace('S2',11)\n",
    "df_p['conn_state'] = df_p['conn_state'].replace('RSTOS0',12)"
   ]
  },
  {
   "cell_type": "code",
   "execution_count": null,
   "id": "0f6ce485",
   "metadata": {},
   "outputs": [],
   "source": [
    "df_p['dns_rejected'] = df_p['dns_rejected'].replace('-',0)\n",
    "df_p['dns_rejected'] = df_p['dns_rejected'].replace('F',1)\n",
    "df_p['dns_rejected'] = df_p['dns_rejected'].replace('T',2)"
   ]
  },
  {
   "cell_type": "code",
   "execution_count": null,
   "id": "4264a2d6",
   "metadata": {},
   "outputs": [],
   "source": [
    "df_p['dns_AA'] = df_p['dns_AA'].replace('-',0)\n",
    "df_p['dns_AA'] = df_p['dns_AA'].replace('F',1)\n",
    "df_p['dns_AA'] = df_p['dns_AA'].replace('T',2)"
   ]
  },
  {
   "cell_type": "code",
   "execution_count": null,
   "id": "dd818566",
   "metadata": {},
   "outputs": [],
   "source": [
    "df_p['dns_RD'] = df_p['dns_RD'].replace('-',0)\n",
    "df_p['dns_RD'] = df_p['dns_RD'].replace('F',1)\n",
    "df_p['dns_RD'] = df_p['dns_RD'].replace('T',2)"
   ]
  },
  {
   "cell_type": "code",
   "execution_count": null,
   "id": "890f7441",
   "metadata": {},
   "outputs": [],
   "source": [
    "df_p['dns_RA'] = df_p['dns_RA'].replace('-',0)\n",
    "df_p['dns_RA'] = df_p['dns_RA'].replace('F',1)\n",
    "df_p['dns_RA'] = df_p['dns_RA'].replace('T',2)"
   ]
  },
  {
   "cell_type": "code",
   "execution_count": null,
   "id": "189dd6a8",
   "metadata": {},
   "outputs": [],
   "source": [
    "df_p['http_trans_depth'] = df_p['http_trans_depth'].replace('-',0)\n",
    "df_p = df_p.astype({'http_trans_depth':'int64'})"
   ]
  },
  {
   "cell_type": "code",
   "execution_count": null,
   "id": "cef23556",
   "metadata": {},
   "outputs": [],
   "source": [
    "df_p['http_method'] = df_p['http_method'].replace('-',0)\n",
    "df_p['http_method'] = df_p['http_method'].replace('GET',1)\n",
    "df_p['http_method'] = df_p['http_method'].replace('POST',2)\n",
    "df_p['http_method'] = df_p['http_method'].replace('HEAD',3)"
   ]
  },
  {
   "cell_type": "code",
   "execution_count": null,
   "id": "43fba953",
   "metadata": {},
   "outputs": [],
   "source": [
    "df_p['http_version'] = df_p['http_version'].replace('-',0)\n",
    "df_p = df_p.astype({'http_version':'float'})"
   ]
  },
  {
   "cell_type": "code",
   "execution_count": null,
   "id": "f597df1a",
   "metadata": {},
   "outputs": [],
   "source": [
    "df_p['http_orig_mime_types'] = df_p['http_orig_mime_types'].replace('-',0)\n",
    "df_p['http_orig_mime_types'] = df_p['http_orig_mime_types'].replace('application/xml',1)\n",
    "df_p['http_orig_mime_types'] = df_p['http_orig_mime_types'].replace('application/soap+xml',2)"
   ]
  },
  {
   "cell_type": "code",
   "execution_count": null,
   "id": "472a8ad8",
   "metadata": {},
   "outputs": [],
   "source": [
    "df_p['http_resp_mime_types'] = df_p['http_resp_mime_types'].replace('-',0)\n",
    "df_p['http_resp_mime_types'] = df_p['http_resp_mime_types'].replace('application/xml',1)\n",
    "df_p['http_resp_mime_types'] = df_p['http_resp_mime_types'].replace('text/html',2)\n",
    "df_p['http_resp_mime_types'] = df_p['http_resp_mime_types'].replace('image/png',3)\n",
    "df_p['http_resp_mime_types'] = df_p['http_resp_mime_types'].replace('application/vnd.ms-cab-compressed',4)\n",
    "df_p['http_resp_mime_types'] = df_p['http_resp_mime_types'].replace('text/plain',5)\n",
    "df_p['http_resp_mime_types'] = df_p['http_resp_mime_types'].replace('application/ocsp-response',6)\n",
    "df_p['http_resp_mime_types'] = df_p['http_resp_mime_types'].replace('text/json',7)\n",
    "df_p['http_resp_mime_types'] = df_p['http_resp_mime_types'].replace('image/jpeg',8)\n",
    "df_p['http_resp_mime_types'] = df_p['http_resp_mime_types'].replace('application/x-debian-package',9)"
   ]
  },
  {
   "cell_type": "code",
   "execution_count": null,
   "id": "82ea3a35",
   "metadata": {},
   "outputs": [],
   "source": [
    "df_p['weird_name'] = df_p['weird_name'].replace('-',0)\n",
    "df_p['weird_name'] = df_p['weird_name'].replace('DNS_RR_unknown_type',1)\n",
    "df_p['weird_name'] = df_p['weird_name'].replace('active_connection_reuse',2)\n",
    "df_p['weird_name'] = df_p['weird_name'].replace('data_before_established',3)\n",
    "df_p['weird_name'] = df_p['weird_name'].replace('bad_UDP_checksum',4)\n",
    "df_p['weird_name'] = df_p['weird_name'].replace('bad_TCP_checksum',5)\n",
    "df_p['weird_name'] = df_p['weird_name'].replace('connection_originator_SYN_ack',6)\n",
    "df_p['weird_name'] = df_p['weird_name'].replace('above_hole_data_without_any_acks',7)\n",
    "df_p['weird_name'] = df_p['weird_name'].replace('inappropriate_FIN',8)\n",
    "df_p['weird_name'] = df_p['weird_name'].replace('dnp3_corrupt_header_checksum',9)\n",
    "df_p['weird_name'] = df_p['weird_name'].replace('possible_split_routing',10)\n",
    "df_p['weird_name'] = df_p['weird_name'].replace('TCP_ack_underflow_or_misorder',11)"
   ]
  },
  {
   "cell_type": "code",
   "execution_count": null,
   "id": "6b70abb7",
   "metadata": {},
   "outputs": [],
   "source": [
    "df_p['weird_addl'] = df_p['weird_addl'].replace('-',0)\n",
    "df_p = df_p.astype({'weird_addl':'int64'})"
   ]
  },
  {
   "cell_type": "code",
   "execution_count": null,
   "id": "ec08ba70",
   "metadata": {},
   "outputs": [],
   "source": [
    "df_p['weird_notice'] = df_p['weird_notice'].replace('-',0)\n",
    "df_p['weird_notice'] = df_p['weird_notice'].replace('F',1)"
   ]
  },
  {
   "cell_type": "code",
   "execution_count": null,
   "id": "9113ca84",
   "metadata": {},
   "outputs": [],
   "source": [
    "df_p = df_p.drop(columns=['src_ip', 'dst_ip'])"
   ]
  },
  {
   "cell_type": "code",
   "execution_count": null,
   "id": "b37f040e",
   "metadata": {},
   "outputs": [],
   "source": [
    "df_p = df_p.drop(columns=['dns_query', 'http_uri', 'http_user_agent'])"
   ]
  },
  {
   "cell_type": "code",
   "execution_count": null,
   "id": "8c367073",
   "metadata": {},
   "outputs": [],
   "source": [
    "df_p['ssl_version'] = df_p['ssl_version'].replace('-',0)\n",
    "df_p['ssl_version'] = df_p['ssl_version'].replace('TLSv12',12)\n",
    "df_p['ssl_version'] = df_p['ssl_version'].replace('TLSv13',13)\n",
    "df_p['ssl_version'] = df_p['ssl_version'].replace('TLSv10',10)"
   ]
  },
  {
   "cell_type": "code",
   "execution_count": null,
   "id": "39e29a68",
   "metadata": {},
   "outputs": [],
   "source": [
    "df_p['ssl_cipher'] = df_p['ssl_cipher'].replace('-',0)\n",
    "df_p['ssl_cipher'] = df_p['ssl_cipher'].replace('TLS_ECDHE_RSA_WITH_AES_128_GCM_SHA256',1)\n",
    "df_p['ssl_cipher'] = df_p['ssl_cipher'].replace('TLS_AES_128_GCM_SHA256',2)\n",
    "df_p['ssl_cipher'] = df_p['ssl_cipher'].replace('TLS_ECDHE_RSA_WITH_AES_256_GCM_SHA384',3)\n",
    "df_p['ssl_cipher'] = df_p['ssl_cipher'].replace('TLS_ECDHE_RSA_WITH_AES_256_CBC_SHA',4)\n",
    "df_p['ssl_cipher'] = df_p['ssl_cipher'].replace('TLS_ECDHE_ECDSA_WITH_AES_128_GCM_SHA256',5)"
   ]
  },
  {
   "cell_type": "code",
   "execution_count": null,
   "id": "8dd708b6",
   "metadata": {},
   "outputs": [],
   "source": [
    "df_p['ssl_resumed'] = df_p['ssl_resumed'].replace('-',0)\n",
    "df_p['ssl_resumed'] = df_p['ssl_resumed'].replace('F',1)\n",
    "df_p['ssl_resumed'] = df_p['ssl_resumed'].replace('T',2)"
   ]
  },
  {
   "cell_type": "code",
   "execution_count": null,
   "id": "0ac30cb8",
   "metadata": {},
   "outputs": [],
   "source": [
    "df_p['ssl_established'] = df_p['ssl_established'].replace('-',0)\n",
    "df_p['ssl_established'] = df_p['ssl_established'].replace('F',1)\n",
    "df_p['ssl_established'] = df_p['ssl_established'].replace('T',2)"
   ]
  },
  {
   "cell_type": "code",
   "execution_count": null,
   "id": "b01c3fca",
   "metadata": {},
   "outputs": [],
   "source": [
    "df_p['ssl_subject'] = df_p['ssl_subject'].replace('-',0)\n",
    "df_p['ssl_subject'] = df_p['ssl_subject'].replace('CN=*.wns.windows.com', 1)\n",
    "df_p['ssl_subject'] = df_p['ssl_subject'].replace('CN=Mr Shepherd;OU=Security Shepherd Project;O=OWASP;L=Dublin;ST=Ireland;C=IE',2)\n",
    "df_p['ssl_subject'] = df_p['ssl_subject'].replace('CN=settings-win.data.microsoft.com;OU=WSE;O=Microsoft;L=Redmond;ST=WA;C=US',3)\n",
    "df_p['ssl_subject'] = df_p['ssl_subject'].replace('CN=sls.update.microsoft.com;OU=DSP;O=Microsoft;L=Redmond;ST=WA;C=US',4)\n",
    "df_p['ssl_subject'] = df_p['ssl_subject'].replace('CN=*.events.data.microsoft.com;OU=Microsoft;O=Microsoft Corporation;L=Redmond;ST=WA;C=US',5)"
   ]
  },
  {
   "cell_type": "code",
   "execution_count": null,
   "id": "282c153b",
   "metadata": {},
   "outputs": [],
   "source": [
    "df_p['ssl_issuer'] = df_p['ssl_issuer'].replace('-',0)\n",
    "df_p['ssl_issuer'] = df_p['ssl_issuer'].replace('CN=Microsoft IT TLS CA 5;OU=Microsoft IT;O=Microsoft Corporation;L=Redmond;ST=Washington;C=US',1)\n",
    "df_p['ssl_issuer'] = df_p['ssl_issuer'].replace('CN=Microsoft Secure Server CA 2011;O=Microsoft Corporation;L=Redmond;ST=Washington;C=US',2)\n",
    "df_p['ssl_issuer'] = df_p['ssl_issuer'].replace('CN=Mr Shepherd;OU=Security Shepherd Project;O=OWASP;L=Dublin;ST=Ireland;C=IE',3)\n",
    "df_p['ssl_issuer'] = df_p['ssl_issuer'].replace('CN=Microsoft Update Secure Server CA 2.1;O=Microsoft Corporation;L=Redmond;ST=Washington;C=US',4)"
   ]
  },
  {
   "cell_type": "code",
   "execution_count": null,
   "id": "b43e0ee9",
   "metadata": {},
   "outputs": [],
   "source": [
    "df_p['http_user_agent'] = df_p['http_user_agent'].replace('-',0)\n",
    "df_p['http_user_agent'] = df_p['http_user_agent'].replace('Microsoft-Delivery-Optimization/10.0',1)\n",
    "df_p['http_user_agent'] = df_p['http_user_agent'].replace('Microsoft-Windows/10.0 UPnP/1.0',2)\n",
    "df_p['http_user_agent'] = df_p['http_user_agent'].replace('Ruby',3)\n",
    "df_p['http_user_agent'] = df_p['http_user_agent'].replace('DAFUPnP',4)\n",
    "df_p['http_user_agent'] = df_p['http_user_agent'].replace('User-Agent: Microsoft-DLNA DLNADOC/1.50',5)\n",
    "df_p['http_user_agent'] = df_p['http_user_agent'].replace('Windows-Update-Agent/10.0.10011.16384 Client-Protocol/1.91',6)\n",
    "df_p['http_user_agent'] = df_p['http_user_agent'].replace('MICROSOFT_DEVICE_METADATA_RETRIEVAL_CLIENT',7)\n",
    "df_p['http_user_agent'] = df_p['http_user_agent'].replace('Microsoft NCSI',8)\n",
    "df_p['http_user_agent'] = df_p['http_user_agent'].replace('Microsoft-Windows/10.0 UPnP/1.0 Microsoft-DLNA DLNADOC/1.50  ',9)\n",
    "df_p['http_user_agent'] = df_p['http_user_agent'].replace('Mozilla/5.0 (X11; Ubuntu; Linux x86_64; rv:66.0) Gecko/20100101 Firefox/66.0',10)\n",
    "df_p['http_user_agent'] = df_p['http_user_agent'].replace('Debian APT-HTTP/1.3 (1.7.4)',11)\n",
    "df_p['http_user_agent'] = df_p['http_user_agent'].replace('Microsoft-CryptoAPI/10.0  ',12)\n",
    "df_p['http_user_agent'] = df_p['http_user_agent'].replace('Microsoft-WNS/10.0',13)\n",
    "df_p['http_user_agent'] = df_p['http_user_agent'].replace('sqlmap/1.2#stable (http://sqlmap.org) ',14)\n",
    "df_p['http_user_agent'] = df_p['http_user_agent'].replace('Microsoft BITS/7.8  ',15)\n",
    "df_p['http_user_agent'] = df_p['http_user_agent'].replace('hacking',16)\n",
    "df_p['http_user_agent'] = df_p['http_user_agent'].replace('Mozilla/5.0 (X11; U; Linux i686; de-DE; rv:1.6) Gecko/20040207 Firefox/0.8',17)\n",
    "df_p['http_user_agent'] = df_p['http_user_agent'].replace('Mozilla/4.08 [en] (WinNT; I ;Nav) ',18)\n",
    "df_p['http_user_agent'] = df_p['http_user_agent'].replace('Mozilla/5.0 (Windows NT 6.1; rv:21.0) Gecko/20130401 Firefox/21.0 ',19)\n",
    "df_p['http_user_agent'] = df_p['http_user_agent'].replace('Mozilla/1.22 (compatible; MSIE 10.0; Windows 3.1)   ',20)\n",
    "df_p['http_user_agent'] = df_p['http_user_agent'].replace('Mozilla/5.0 (Windows NT 6.3; rv:36.0) Gecko/20100101 Firefox/36.0 ',21)\n",
    "df_p['http_user_agent'] = df_p['http_user_agent'].replace('Mozilla/5.0 (Macintosh; Intel Mac OS X 10_12_0) AppleWebKit/537.36 (KHTML; like Gecko) Chrome/53.0.2785.143 Safari/537.36',22)\n",
    "df_p['http_user_agent'] = df_p['http_user_agent'].replace('DataCha0s/2.0',23)\n",
    "df_p['http_user_agent'] = df_p['http_user_agent'].replace('Mozilla/5.0 (Windows NT 6.3; WOW64) AppleWebKit/537.36 (KHTML; like Gecko) Chrome/53.0.2785.143 Safari/537.36 ',24)\n",
    "df_p['http_user_agent'] = df_p['http_user_agent'].replace('Comos/0.9_(robot@xyleme.com)',25)\n",
    "df_p['http_user_agent'] = df_p['http_user_agent'].replace('DonutP; Windows98SE',26)\n",
    "df_p['http_user_agent'] = df_p['http_user_agent'].replace('Mozilla/5.0 (compatible; MSIE 10.0; Windows NT 6.1; Trident/4.0; InfoPath.2; SV1; .NET CLR 2.0.50727; WOW64)',27)\n",
    "df_p['http_user_agent'] = df_p['http_user_agent'].replace('Mozilla/5.0 (X11; Linux x86_64) AppleWebKit/534.30 (KHTML; like Gecko) Version/4.0 Oupeng/10.2.1.86910 Safari/534.30',28)\n",
    "df_p['http_user_agent'] = df_p['http_user_agent'].replace('Mozilla/5.0 (SMART-TV; Linux; Tizen 2.3) AppleWebkit/538.1 (KHTML; like Gecko) SamsungBrowser/1.0 Safari/538.1',29)\n",
    "df_p['http_user_agent'] = df_p['http_user_agent'].replace('Mozilla/5.0 (Windows NT 6.1; WOW64; rv:49.0) Gecko/20100101 Firefox/49.0',30)\n",
    "df_p['http_user_agent'] = df_p['http_user_agent'].replace('Mozilla/5.0 (Windows NT 6.1; Win64; x64; rv:5.0) Whistler/20110021 myibrow/5.0.0.0 ',31)\n",
    "df_p['http_user_agent'] = df_p['http_user_agent'].replace('Mozilla/5.0 (iPhone; U; CPU iOS 2_0 like Mac OS X; en-us)',32)\n",
    "df_p['http_user_agent'] = df_p['http_user_agent'].replace('Mozilla/5.0 (Macintosh; Intel Mac OS X 10.11; rv:49.0) Gecko/20100101 Firefox/49.0 ',33)\n",
    "df_p['http_user_agent'] = df_p['http_user_agent'].replace('Mozilla/5.0 (Windows NT 10.0; Win64; x64) AppleWebKit/537.36 (KHTML; like Gecko) Chrome/64.0.3282.140 Safari/537.36 Edge/18.17763',34)\n",
    "df_p['http_user_agent'] = df_p['http_user_agent'].replace('Debian APT-HTTP/1.3 (1.6.6) ',35)"
   ]
  },
  {
   "cell_type": "code",
   "execution_count": null,
   "id": "165f0974",
   "metadata": {},
   "outputs": [],
   "source": [
    "df_p = df_p.astype({'dst_port':'float'})\n",
    "df_p = df_p.astype({'src_bytes':'float'})\n",
    "df_p = df_p.astype({'dst_bytes':'float'})\n",
    "df_p = df_p.astype({'missed_bytes':'float'})\n",
    "df_p = df_p.astype({'src_pkts':'float'})\n",
    "df_p = df_p.astype({'src_ip_bytes':'float'})\n",
    "df_p = df_p.astype({'dst_pkts':'float'})\n",
    "df_p = df_p.astype({'dst_ip_bytes':'float'})\n",
    "df_p = df_p.astype({'dns_qclass':'float'})\n",
    "df_p = df_p.astype({'dns_qtype':'float'})\n",
    "df_p = df_p.astype({'dns_rcode':'float'})\n",
    "df_p = df_p.astype({'http_request_body_len':'float'})\n",
    "df_p = df_p.astype({'http_response_body_len':'float'})\n",
    "df_p = df_p.astype({'weird_notice':'float'})"
   ]
  },
  {
   "cell_type": "code",
   "execution_count": null,
   "id": "922ef089",
   "metadata": {},
   "outputs": [],
   "source": [
    "df_p = to_csv('type_before_pre_ton.csv')"
   ]
  }
 ],
 "metadata": {
  "kernelspec": {
   "display_name": "Python 3 (ipykernel)",
   "language": "python",
   "name": "python3"
  },
  "language_info": {
   "codemirror_mode": {
    "name": "ipython",
    "version": 3
   },
   "file_extension": ".py",
   "mimetype": "text/x-python",
   "name": "python",
   "nbconvert_exporter": "python",
   "pygments_lexer": "ipython3",
   "version": "3.9.12"
  }
 },
 "nbformat": 4,
 "nbformat_minor": 5
}
