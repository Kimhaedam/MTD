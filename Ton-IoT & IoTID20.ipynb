{
 "cells": [
  {
   "cell_type": "code",
   "execution_count": null,
   "id": "456639d2",
   "metadata": {},
   "outputs": [],
   "source": [
    "import pandas as pd\n",
    "from sklearn.svm import SVC\n",
    "from sklearn.model_selection import GridSearchCV\n",
    "from sklearn.metrics import classification_report, confusion_matrix\n",
    "from sklearn.model_selection import train_test_split\n",
    "import time\n",
    "import numpy as np\n",
    "import seaborn as sns"
   ]
  },
  {
   "cell_type": "code",
   "execution_count": null,
   "id": "a9d69db2",
   "metadata": {},
   "outputs": [],
   "source": [
    "tond = pd.read_csv(\"type_before_pre_ton.csv\")"
   ]
  },
  {
   "cell_type": "code",
   "execution_count": null,
   "id": "b36bb1ec",
   "metadata": {},
   "outputs": [],
   "source": [
    "iot20 = pd.read_csv(\"iot2020.csv\")"
   ]
  },
  {
   "cell_type": "code",
   "execution_count": null,
   "id": "b7dbf8aa",
   "metadata": {},
   "outputs": [],
   "source": [
    "#이종의 데이터셋을 5:5비율로 학습하기 위해 Ton-IoT 데이터셋의 개수만큼 랜덤 추출\n",
    "iot20 = iot20.sample(n=461043, replace=False, axis=0)"
   ]
  },
  {
   "cell_type": "code",
   "execution_count": null,
   "id": "31624ec5",
   "metadata": {},
   "outputs": [],
   "source": [
    "#공격 종류 확인\n",
    "tond['type'].value_counts()"
   ]
  },
  {
   "cell_type": "code",
   "execution_count": null,
   "id": "bb644eac",
   "metadata": {},
   "outputs": [],
   "source": [
    "#공격 종류 확인\n",
    "iot20['Cat'].value_counts()"
   ]
  },
  {
   "cell_type": "code",
   "execution_count": null,
   "id": "09f436ea",
   "metadata": {},
   "outputs": [],
   "source": [
    "#type과 Cat이 둘 다 공격명을 나타내므로 Column명 통일\n",
    "#iot20과 ton-iot 공격명 통일\n",
    "tond = tond.rename(columns={'type':'Cat'})\n",
    "iot20 = iot20.replace('Normal', 'normal' )\n",
    "iot20 = iot20.replace('DoS', 'dos' )\n",
    "iot20 = iot20.replace('MITM ARP Spoofing', 'mitm' )\n",
    "iot20 = iot20.replace('Scan', 'scanning' )"
   ]
  },
  {
   "cell_type": "code",
   "execution_count": null,
   "id": "8d725817",
   "metadata": {},
   "outputs": [],
   "source": [
    "#feature명 통일\n",
    "tond= tond.rename(columns={'duration':'Flow_Duration','src_pkts':'Tot_Fwd_Pkts', 'dst_pkts':'Tot_Bwd_Pkts', 'proto':'Protocol', 'src_bytes':'Fwd_Pkt_Len_Mean' , 'dst_bytes':'Bwd_Pkt_Len_Mean', 'src_ip_bytes':'Fwd_Pkts/s', 'dst_ip_bytes':'Bwd_Pkts/s', 'type':'Cat'})"
   ]
  },
  {
   "cell_type": "code",
   "execution_count": null,
   "id": "361f86ec",
   "metadata": {},
   "outputs": [],
   "source": [
    "#feature명 통일\n",
    "iot20= iot20.rename(columns={'duration':'Flow Duration','orig_pkts':'Total Fwd Packets', 'resp_pkts':'Total Backward Packets', 'proto':'Protocol', 'orig_bytes':'Fwd Packet Length Mean' , 'resp_bytes': 'Bwd Packet Length Mean' , 'orig_ip_bytes': 'Fwd Packets/s' ,'resp_ip_bytes': 'Bwd Packets/s' ,'label': 'Label' })"
   ]
  },
  {
   "cell_type": "code",
   "execution_count": null,
   "id": "2ff97627",
   "metadata": {},
   "outputs": [],
   "source": [
    "#String값을 가진 feature drop\n",
    "iot20 = iot20.drop(columns=[ 'Flow_Byts/s', 'Flow_Pkts/s',  'Label', 'Sub_Cat' ])"
   ]
  },
  {
   "cell_type": "code",
   "execution_count": null,
   "id": "167a9f39",
   "metadata": {},
   "outputs": [],
   "source": [
    "print(tond.columns.tolist())"
   ]
  },
  {
   "cell_type": "code",
   "execution_count": null,
   "id": "4d024f89",
   "metadata": {},
   "outputs": [],
   "source": [
    "print(iot20.columns.tolist())"
   ]
  },
  {
   "cell_type": "code",
   "execution_count": null,
   "id": "5639614c",
   "metadata": {},
   "outputs": [],
   "source": [
    "#공통 feature 9개를 제외한 나머지 drop\n",
    "iot20 = iot20.drop(columns=['Flow_ID', 'Src_IP', 'Src_Port', 'Dst_IP', 'Dst_Port', 'Timestamp', 'TotLen_Fwd_Pkts', 'TotLen_Bwd_Pkts', 'Fwd_Pkt_Len_Max','Fwd_Pkt_Len_Min', 'Fwd_Pkt_Len_Std', 'Bwd_Pkt_Len_Max', 'Bwd_Pkt_Len_Min', 'Bwd_Pkt_Len_Std', 'Flow_IAT_Mean', 'Flow_IAT_Std', 'Flow_IAT_Max', 'Flow_IAT_Min', 'Fwd_IAT_Tot', 'Fwd_IAT_Mean', 'Fwd_IAT_Std', 'Fwd_IAT_Max', 'Fwd_IAT_Min', 'Bwd_IAT_Tot', 'Bwd_IAT_Mean', 'Bwd_IAT_Std', 'Bwd_IAT_Max', 'Bwd_IAT_Min', 'Fwd_PSH_Flags', 'Bwd_PSH_Flags', 'Fwd_URG_Flags', 'Bwd_URG_Flags', 'Fwd_Header_Len', 'Bwd_Header_Len', 'Pkt_Len_Min', 'Pkt_Len_Max', 'Pkt_Len_Mean', 'Pkt_Len_Std', 'Pkt_Len_Var', 'FIN_Flag_Cnt', 'SYN_Flag_Cnt', 'RST_Flag_Cnt', 'PSH_Flag_Cnt', 'ACK_Flag_Cnt', 'URG_Flag_Cnt', 'CWE_Flag_Count', 'ECE_Flag_Cnt', 'Down/Up_Ratio', 'Pkt_Size_Avg', 'Fwd_Seg_Size_Avg', 'Bwd_Seg_Size_Avg', 'Fwd_Pkts/b_Avg', 'Fwd_Blk_Rate_Avg', 'Bwd_Byts/b_Avg', 'Bwd_Pkts/b_Avg', 'Bwd_Blk_Rate_Avg', 'Subflow_Fwd_Pkts', 'Subflow_Fwd_Byts', 'Subflow_Bwd_Pkts', 'Subflow_Bwd_Byts', 'Init_Fwd_Win_Byts', 'Init_Bwd_Win_Byts', 'Fwd_Act_Data_Pkts', 'Fwd_Seg_Size_Min', 'Active_Mean', 'Active_Std', 'Active_Max', 'Active_Min', 'Idle_Mean', 'Idle_Std', 'Idle_Max', 'Idle_Min'])"
   ]
  },
  {
   "cell_type": "code",
   "execution_count": null,
   "id": "932b9620",
   "metadata": {},
   "outputs": [],
   "source": [
    "##공통 feature 9개를 제외한 나머지 drop\n",
    "tond = tond.drop(columns=['Unnamed: 0', 'ts', 'service', 'conn_state', 'missed_bytes', 'dns_qclass', 'dns_qtype', 'dns_rcode', 'dns_AA', 'dns_RD', 'dns_RA', 'dns_rejected', 'ssl_version', 'ssl_cipher', 'ssl_resumed', 'ssl_established', 'ssl_subject', 'ssl_issuer', 'http_trans_depth', 'http_method', 'http_version', 'http_request_body_len', 'http_response_body_len', 'http_status_code', 'http_orig_mime_types', 'http_resp_mime_types', 'weird_name', 'weird_addl', 'weird_notice' , 'label', 'src_port', 'dst_port'  ])"
   ]
  },
  {
   "cell_type": "code",
   "execution_count": null,
   "id": "a436d90a",
   "metadata": {},
   "outputs": [],
   "source": [
    "frames = [iot20, tond]\n",
    "df_h = pd.concat(frames)"
   ]
  },
  {
   "cell_type": "code",
   "execution_count": null,
   "id": "2ea7a4f9",
   "metadata": {},
   "outputs": [],
   "source": [
    "#결측값 존재하는지 확인\n",
    "tond.isna().sum()"
   ]
  },
  {
   "cell_type": "code",
   "execution_count": null,
   "id": "a0afb6f8",
   "metadata": {},
   "outputs": [],
   "source": [
    "#결측값 채움\n",
    "tond.fillna(-1,inplace=True)\n",
    "iot20.fillna(-1,inplace=True)\n",
    "df_h.fillna(-1,inplace=True)"
   ]
  },
  {
   "cell_type": "code",
   "execution_count": null,
   "id": "2b3791ec",
   "metadata": {},
   "outputs": [],
   "source": [
    "from sklearn.ensemble import RandomForestClassifier\n",
    "\n",
    "RF = RandomForestClassifier()"
   ]
  },
  {
   "cell_type": "code",
   "execution_count": null,
   "id": "ec205eb8",
   "metadata": {},
   "outputs": [],
   "source": [
    "#이종의 데이터셋으로 학습\n",
    "X = df_h[['Protocol', 'Flow_Duration', 'Fwd_Pkt_Len_Mean', 'Bwd_Pkt_Len_Mean', 'Tot_Fwd_Pkts', 'Fwd_Pkts/s', 'Tot_Bwd_Pkts', 'Bwd_Pkts/s']]\n",
    "Y = df_h['Cat']\n",
    "X_train, X_test, Y_train, Y_test = train_test_split(X, Y, random_state=10, test_size=0.2)"
   ]
  },
  {
   "cell_type": "code",
   "execution_count": null,
   "id": "2527b60b",
   "metadata": {},
   "outputs": [],
   "source": [
    "#IoTID20으로 테스트하는 경우\n",
    "Z = iot20[['Protocol', 'Flow_Duration', 'Fwd_Pkt_Len_Mean', 'Bwd_Pkt_Len_Mean', 'Tot_Fwd_Pkts', 'Fwd_Pkts/s', 'Tot_Bwd_Pkts', 'Bwd_Pkts/s']]\n",
    "W = iot20['Cat']\n",
    "Z_train, Z_test, W_train, W_test = train_test_split(Z, W, random_state=10, test_size=0.4)"
   ]
  },
  {
   "cell_type": "code",
   "execution_count": null,
   "id": "9993e623",
   "metadata": {},
   "outputs": [],
   "source": [
    "X_test = Z_test\n",
    "Y_test = W_test"
   ]
  },
  {
   "cell_type": "code",
   "execution_count": null,
   "id": "591b42b8",
   "metadata": {},
   "outputs": [],
   "source": [
    "start = time.time()\n",
    "print('program start...')\n",
    "print()\n",
    "\n",
    "RF.fit(X_train, Y_train)  # fit() : 훈련 수행\n",
    "print()\n",
    "print('prediction:')\n",
    "y_pred = RF.predict(X_test)  # predict() : 모델 훈련 후 예측\n",
    "print(y_pred)\n",
    "print()\n",
    "\n",
    "print('Score:')\n",
    "score = RF.score(X_test,Y_test)  # score() : 평가 점수 계산\n",
    "print(score)\n",
    "\n",
    "end = time.time()  # 현재 시각 구하기\n",
    "print('program end...')\n",
    "print()\n",
    "print('time cost: ')\n",
    "print(end - start, 'seconds')\n",
    "print(\"Classifiction Report :\")\n",
    "print(classification_report(Y_test, y_pred))"
   ]
  }
 ],
 "metadata": {
  "kernelspec": {
   "display_name": "Python 3",
   "language": "python",
   "name": "python3"
  },
  "language_info": {
   "codemirror_mode": {
    "name": "ipython",
    "version": 3
   },
   "file_extension": ".py",
   "mimetype": "text/x-python",
   "name": "python",
   "nbconvert_exporter": "python",
   "pygments_lexer": "ipython3",
   "version": "3.8.8"
  }
 },
 "nbformat": 4,
 "nbformat_minor": 5
}
