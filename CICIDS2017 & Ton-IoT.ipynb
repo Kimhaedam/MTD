{
 "cells": [
  {
   "cell_type": "code",
   "execution_count": null,
   "id": "8dd4a600",
   "metadata": {},
   "outputs": [],
   "source": [
    "import pandas as pd"
   ]
  },
  {
   "cell_type": "code",
   "execution_count": null,
   "id": "b4b4241b",
   "metadata": {},
   "outputs": [],
   "source": [
    "cic = pd.read_csv('cicids2017_preprocessed.csv')"
   ]
  },
  {
   "cell_type": "code",
   "execution_count": null,
   "id": "9d7130f4",
   "metadata": {},
   "outputs": [],
   "source": [
    "ton = pd.read_csv('type_before_pre_ton.csv')"
   ]
  },
  {
   "cell_type": "code",
   "execution_count": null,
   "id": "72a135c6",
   "metadata": {},
   "outputs": [],
   "source": [
    "del ton['Unnamed: 0']"
   ]
  },
  {
   "cell_type": "code",
   "execution_count": null,
   "id": "4bb1e08c",
   "metadata": {},
   "outputs": [],
   "source": [
    "# 공통 feature 이름 매핑"
   ]
  },
  {
   "cell_type": "code",
   "execution_count": null,
   "id": "eb1c8dba",
   "metadata": {},
   "outputs": [],
   "source": [
    "ton.rename(columns = {'duration':'Flow Duration','proto':'Protocol','src_bytes':'Fwd Packet Length Mean','dst_bytes':'Bwd Packet Length Mean','src_pkts':'Total Fwd Packets','src_ip_bytes':'Fwd Packets/s','dst_pkts':'Total Bwd Packets','dst_ip_bytes':'Bwd Packets/s','type':'Label'},inplace=True)\n",
    "cic.rename(columns = {'Total Backward Packets':'Total Bwd Packets'},inplace=True)"
   ]
  },
  {
   "cell_type": "code",
   "execution_count": null,
   "id": "fd7ca456",
   "metadata": {},
   "outputs": [],
   "source": [
    "# 필요 없는 feature 제거 (타임스탬프, 포트 등)"
   ]
  },
  {
   "cell_type": "code",
   "execution_count": null,
   "id": "c9b2f39b",
   "metadata": {},
   "outputs": [],
   "source": [
    "ton = ton.drop(['label', 'ts', 'src_port', 'dst_port'], axis= 'columns')"
   ]
  },
  {
   "cell_type": "code",
   "execution_count": null,
   "id": "2c26371c",
   "metadata": {},
   "outputs": [],
   "source": [
    "cic = cic.drop(['Source IP', 'Source Port', 'Destination IP', 'Destination Port','Timestamp', 'External IP], axis= 'columns')"
   ]
  },
  {
   "cell_type": "code",
   "execution_count": null,
   "id": "26e55cd6",
   "metadata": {},
   "outputs": [],
   "source": [
    "# Ton-IoT 데이터셋 크기에 맞게 Sampling"
   ]
  },
  {
   "cell_type": "code",
   "execution_count": null,
   "id": "2b89a5ec",
   "metadata": {},
   "outputs": [],
   "source": [
    "cic_s = cic.sample(n=461043, replace=False, axis=0)"
   ]
  },
  {
   "cell_type": "code",
   "execution_count": null,
   "id": "738afd74",
   "metadata": {},
   "outputs": [],
   "source": [
    "# Ton-IoT, CICIDS2017 데이터셋 Merge"
   ]
  },
  {
   "cell_type": "code",
   "execution_count": null,
   "id": "230a3cbe",
   "metadata": {},
   "outputs": [],
   "source": [
    "frames = [cic_s, ton]\n",
    "df = pd.concat(frames)"
   ]
  },
  {
   "cell_type": "code",
   "execution_count": null,
   "id": "6404e9b3",
   "metadata": {},
   "outputs": [],
   "source": [
    "# 결측값을 -1로 변환하고 결측값 존재하는지 확인"
   ]
  },
  {
   "cell_type": "code",
   "execution_count": null,
   "id": "7fcf3b20",
   "metadata": {},
   "outputs": [],
   "source": [
    "df.fillna(-1,inplace=True)"
   ]
  },
  {
   "cell_type": "code",
   "execution_count": null,
   "id": "d356da9b",
   "metadata": {},
   "outputs": [],
   "source": [
    "df.isna().sum()"
   ]
  },
  {
   "cell_type": "code",
   "execution_count": null,
   "id": "be7d6e52",
   "metadata": {},
   "outputs": [],
   "source": [
    "# 공격 타입 통일"
   ]
  },
  {
   "cell_type": "code",
   "execution_count": null,
   "id": "21c4aaf1",
   "metadata": {},
   "outputs": [],
   "source": [
    "df = df.replace('normal','Benign')\n",
    "df = df.replace('scanning','PortScan')\n",
    "df = df.replace('ddos','DDoS')\n",
    "df = df.replace('dos','DoS')\n",
    "df = df.replace('injection','Injection')\n",
    "df = df.replace('password','Password')\n",
    "df = df.replace('xss','XSS')\n",
    "df = df.replace('ransomware','Ransomware')\n",
    "df = df.replace('backdoor','Backdoor')\n",
    "df = df.replace('mitm','MITM')\n",
    "\n",
    "df = df.replace('BENIGN','Benign')\n",
    "df = df.replace('DoS GoldenEye','DoS')\n",
    "df = df.replace('DoS slowloris','DoS')\n",
    "df = df.replace('DoS Slowhttptest','DoS')\n",
    "df = df.replace('DoS Hulk','DoS')"
   ]
  },
  {
   "cell_type": "code",
   "execution_count": null,
   "id": "c0332d98",
   "metadata": {},
   "outputs": [],
   "source": [
    "# Feature Importance 계산"
   ]
  },
  {
   "cell_type": "code",
   "execution_count": null,
   "id": "70252d53",
   "metadata": {},
   "outputs": [],
   "source": [
    "import matplotlib.pyplot as plt\n",
    "import pandas as pd\n",
    "import numpy as np\n",
    "import random\n",
    "\n",
    "X = df[['Flow ID', 'Protocol', 'Flow Duration', 'Total Fwd Packets', 'Total Bwd Packets', 'Total Length of Fwd Packets', 'Total Length of Bwd Packets', 'Fwd Packet Length Max', 'Fwd Packet Length Min', 'Fwd Packet Length Mean', 'Fwd Packet Length Std', 'Bwd Packet Length Max', 'Bwd Packet Length Min', 'Bwd Packet Length Mean', 'Bwd Packet Length Std', 'Flow Bytes/s', 'Flow Packets/s', 'Flow IAT Mean', 'Flow IAT Std', 'Flow IAT Max', 'Flow IAT Min', 'Fwd IAT Total', 'Fwd IAT Mean', 'Fwd IAT Std', 'Fwd IAT Max', 'Fwd IAT Min', 'Bwd IAT Total', 'Bwd IAT Mean', 'Bwd IAT Std', 'Bwd IAT Max', 'Bwd IAT Min', 'Fwd PSH Flags', 'Bwd PSH Flags', 'Fwd URG Flags', 'Bwd URG Flags', 'Fwd Header Length', 'Bwd Header Length', 'Fwd Packets/s', 'Bwd Packets/s', 'Min Packet Length', 'Max Packet Length', 'Packet Length Mean', 'Packet Length Std', 'Packet Length Variance', 'FIN Flag Count', 'SYN Flag Count', 'RST Flag Count', 'PSH Flag Count', 'ACK Flag Count', 'URG Flag Count', 'CWE Flag Count', 'ECE Flag Count', 'Down/Up Ratio', 'Average Packet Size', 'Avg Fwd Segment Size', 'Avg Bwd Segment Size', 'Fwd Avg Bytes/Bulk', 'Fwd Avg Packets/Bulk', 'Fwd Avg Bulk Rate', 'Bwd Avg Bytes/Bulk', 'Bwd Avg Packets/Bulk', 'Bwd Avg Bulk Rate', 'Subflow Fwd Packets', 'Subflow Fwd Bytes', 'Subflow Bwd Packets', 'Subflow Bwd Bytes', 'Init_Win_bytes_forward', 'Init_Win_bytes_backward', 'act_data_pkt_fwd', 'min_seg_size_forward', 'Active Mean', 'Active Std', 'Active Max', 'Active Min', 'Idle Mean', 'Idle Std', 'Idle Max', 'Idle Min', 'service', 'conn_state', 'missed_bytes', 'dns_qclass', 'dns_qtype', 'dns_rcode', 'dns_AA', 'dns_RD', 'dns_RA', 'dns_rejected', 'ssl_version', 'ssl_cipher', 'ssl_resumed', 'ssl_established', 'ssl_subject', 'ssl_issuer', 'http_trans_depth', 'http_method', 'http_version', 'http_request_body_len', 'http_response_body_len', 'http_status_code', 'http_orig_mime_types', 'http_resp_mime_types', 'weird_name', 'weird_addl', 'weird_notice']]\n",
    "y = df['Label']\n",
    "\n",
    "labels = X.columns\n",
    "\n",
    "from sklearn.ensemble import RandomForestClassifier\n",
    "model = RandomForestClassifier()\n",
    "model.fit(X, y)\n",
    "\n",
    "importance = model.feature_importances_\n",
    "std = np.std([tree.feature_importances_ for tree in model.estimators_], axis=0)\n",
    "indices = np.argsort(importance)[::-1]\n",
    "\n",
    "# Print the feature ranking\n",
    "print(\"Feature ranking:\")\n",
    "\n",
    "for f in range(X.shape[1]):\n",
    "    print(\"{}. {} ({:.5f})\".format(f + 1, X.columns[indices][f], importance[indices[f]]))"
   ]
  }
 ],
 "metadata": {
  "kernelspec": {
   "display_name": "Python 3 (ipykernel)",
   "language": "python",
   "name": "python3"
  },
  "language_info": {
   "codemirror_mode": {
    "name": "ipython",
    "version": 3
   },
   "file_extension": ".py",
   "mimetype": "text/x-python",
   "name": "python",
   "nbconvert_exporter": "python",
   "pygments_lexer": "ipython3",
   "version": "3.9.12"
  }
 },
 "nbformat": 4,
 "nbformat_minor": 5
}
