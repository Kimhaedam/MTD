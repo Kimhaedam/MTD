{
 "cells": [
  {
   "cell_type": "code",
   "execution_count": null,
   "id": "b35fe308",
   "metadata": {},
   "outputs": [],
   "source": [
    "import pandas as pd\n",
    "from sklearn.svm import SVC\n",
    "from sklearn.model_selection import GridSearchCV\n",
    "from sklearn.metrics import classification_report, confusion_matrix\n",
    "from sklearn.model_selection import train_test_split\n",
    "import time\n",
    "import numpy as np\n",
    "import seaborn as sns\n",
    "import matplotlib.pyplot as plt"
   ]
  },
  {
   "cell_type": "code",
   "execution_count": null,
   "id": "2884dc45",
   "metadata": {},
   "outputs": [],
   "source": [
    "filepath = \"IoT_20_process.csv\"\n",
    "df_iot20 = pd.read_csv(filepath)\n",
    "del df_iot20['Unnamed: 0']"
   ]
  },
  {
   "cell_type": "code",
   "execution_count": null,
   "id": "e7937903",
   "metadata": {},
   "outputs": [],
   "source": [
    "filepath1 = \"IoT_23_process.csv\"\n",
    "df_iot23 = pd.read_csv(filepath1)\n",
    "del df_iot23['Unnamed: 0']"
   ]
  },
  {
   "cell_type": "code",
   "execution_count": null,
   "id": "7523a06d",
   "metadata": {},
   "outputs": [],
   "source": [
    "df_iot= df_iot.replace('-   Malicious   DDoS','DoS')\n",
    "df_iot = df_iot.replace('-   Malicious   C&C','C&C')\n",
    "df_iot = df_iot.replace('-   Benign   -','Normal')\n",
    "df_iot = df_iot.replace('-   Malicious   PartOfAHorizontalPortScan','Scan')\n",
    "#공격유형 이름 맞추기"
   ]
  },
  {
   "cell_type": "code",
   "execution_count": null,
   "id": "0b68e41e",
   "metadata": {},
   "outputs": [],
   "source": [
    "df_iot20 = df_iot20.sample(n=23142, replace=False, axis=0)\n",
    "#IoTID20 샘플데이터 추출"
   ]
  },
  {
   "cell_type": "code",
   "execution_count": null,
   "id": "3c595559",
   "metadata": {},
   "outputs": [],
   "source": [
    "frames=[df_iot20,df_iot23]"
   ]
  },
  {
   "cell_type": "code",
   "execution_count": null,
   "id": "ffe908c6",
   "metadata": {},
   "outputs": [],
   "source": [
    "df_combined =pd.concat(frames)"
   ]
  },
  {
   "cell_type": "code",
   "execution_count": null,
   "id": "6e7b3b19",
   "metadata": {},
   "outputs": [],
   "source": [
    "from sklearn.ensemble import RandomForestClassifier\n",
    "\n",
    "RF = RandomForestClassifier()"
   ]
  },
  {
   "cell_type": "code",
   "execution_count": null,
   "id": "d9dec4f2",
   "metadata": {},
   "outputs": [],
   "source": [
    "X = df_combined[['proto', 'duration', 'orig_pkts', 'resp_pkts', 'orig_bytes', 'resp_bytes', 'orig_ip_bytes', 'resp_ip_bytes']]\n",
    "Y = df_combined['label']\n",
    "X_train, X_test, Y_train, Y_test = train_test_split(X, Y, random_state=10, test_size=0.2)"
   ]
  },
  {
   "cell_type": "code",
   "execution_count": null,
   "id": "00c20796",
   "metadata": {},
   "outputs": [],
   "source": [
    "Z = df_iot23[['proto', 'duration', 'orig_bytes', 'resp_bytes', 'orig_pkts', 'orig_ip_bytes', 'resp_pkts', 'resp_ip_bytes']]\n",
    "W = df_iot23['label']\n",
    "Z_train, Z_test, W_train, W_test = train_test_split(Z, W, random_state=10, test_size=0.4)"
   ]
  },
  {
   "cell_type": "code",
   "execution_count": null,
   "id": "a4859eb9",
   "metadata": {},
   "outputs": [],
   "source": [
    "X_test = Z_test\n",
    "Y_test = W_test"
   ]
  },
  {
   "cell_type": "code",
   "execution_count": null,
   "id": "daf5a267",
   "metadata": {},
   "outputs": [],
   "source": [
    "start = time.time()\n",
    "print('program start...')\n",
    "print()\n",
    "\n",
    "RF.fit(X_train, Y_train)  # fit() : 훈련 수행\n",
    "print()"
   ]
  },
  {
   "cell_type": "code",
   "execution_count": null,
   "id": "da9334a1",
   "metadata": {},
   "outputs": [],
   "source": [
    "print('prediction:')\n",
    "y_pred = RF.predict(X_test)  # predict() : 모델 훈련 후 예측\n",
    "print(y_pred)\n",
    "print()\n",
    "\n",
    "print('Score:')\n",
    "score = RF.score(X_test,Y_test)  # score() : 평가 점수 계산\n",
    "print(score)\n",
    "\n",
    "end = time.time()  # 현재 시각 구하기\n",
    "print('program end...')\n",
    "print()\n",
    "print('time cost: ')\n",
    "print(end - start, 'seconds')\n",
    "print('\\n')\n",
    "\n",
    "print(\"Classifiction Report :\")\n",
    "print(classification_report(Y_test, y_pred))"
   ]
  }
 ],
 "metadata": {
  "kernelspec": {
   "display_name": "Python 3 (ipykernel)",
   "language": "python",
   "name": "python3"
  },
  "language_info": {
   "codemirror_mode": {
    "name": "ipython",
    "version": 3
   },
   "file_extension": ".py",
   "mimetype": "text/x-python",
   "name": "python",
   "nbconvert_exporter": "python",
   "pygments_lexer": "ipython3",
   "version": "3.8.3"
  }
 },
 "nbformat": 4,
 "nbformat_minor": 5
}
