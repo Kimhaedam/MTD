{
 "cells": [
  {
   "cell_type": "code",
   "execution_count": null,
   "id": "60baba0f",
   "metadata": {},
   "outputs": [],
   "source": [
    "import pandas as pd\n",
    "from sklearn.svm import SVC\n",
    "from sklearn.model_selection import GridSearchCV\n",
    "from sklearn.metrics import classification_report, confusion_matrix\n",
    "from sklearn.model_selection import train_test_split\n",
    "import time\n",
    "import numpy as np\n",
    "import seaborn as sns\n",
    "import matplotlib.pyplot as plt\n",
    "from sklearn.preprocessing import LabelEncoder"
   ]
  },
  {
   "cell_type": "code",
   "execution_count": null,
   "id": "556018f6",
   "metadata": {},
   "outputs": [],
   "source": [
    "iotd = pd.read_csv(\"iot23_not_preprocessed.csv\")"
   ]
  },
  {
   "cell_type": "code",
   "execution_count": null,
   "id": "4e3d6ce4",
   "metadata": {},
   "outputs": [],
   "source": [
    "cic = pd.read_csv(\"cicids2017_preprocessed.csv\")"
   ]
  },
  {
   "cell_type": "code",
   "execution_count": null,
   "id": "bd51e3ea",
   "metadata": {},
   "outputs": [],
   "source": [
    "#5:5 비율로 학습하기 위해 IoT-23 개수만큼 CICIDS2017을 랜덤 추출\n",
    "cicd = cic.sample(n=1444674, replace=False, axis=0)"
   ]
  },
  {
   "cell_type": "code",
   "execution_count": null,
   "id": "83327031",
   "metadata": {},
   "outputs": [],
   "source": [
    "del iotd['Unnamed: 0']"
   ]
  },
  {
   "cell_type": "code",
   "execution_count": null,
   "id": "be1040da",
   "metadata": {},
   "outputs": [],
   "source": [
    "iotd['duration'] = iotd['duration'].str.replace('-','0')\n",
    "iotd['orig_bytes'] = iotd['orig_bytes'].str.replace('-','0')\n",
    "iotd['resp_bytes'] = iotd['resp_bytes'].str.replace('-','0')\n",
    "iotd.loc[(iotd.label == '-   Malicious   PartOfAHorizontalPortScan'), 'label'] = 'PartOfAHorizontalPortScan'\n",
    "iotd.loc[(iotd.label == '(empty)   Malicious   PartOfAHorizontalPortScan'), 'label'] = 'PartOfAHorizontalPortScan'\n",
    "iotd.loc[(iotd.label == '-   Malicious   Okiru'), 'label'] = 'Okiru'\n",
    "iotd.loc[(iotd.label == '(empty)   Malicious   Okiru'), 'label'] = 'Okiru'\n",
    "iotd.loc[(iotd.label == '-   Benign   -'), 'label'] = 'Benign'\n",
    "iotd.loc[(iotd.label == '(empty)   Benign   -'), 'label'] = 'Benign'\n",
    "iotd.loc[(iotd.label == '-   Malicious   DDoS'), 'label'] = 'DDoS'\n",
    "iotd.loc[(iotd.label == '-   Malicious   C&C'), 'label'] = 'C&C'\n",
    "iotd.loc[(iotd.label == '(empty)   Malicious   C&C'), 'label'] = 'C&C'\n",
    "iotd.loc[(iotd.label == '-   Malicious   Attack'), 'label'] = 'Attack'\n",
    "iotd.loc[(iotd.label == '(empty)   Malicious   Attack'), 'label'] = 'Attack'\n",
    "iotd.loc[(iotd.label == '-   Malicious   C&C-HeartBeat'), 'label'] = 'C&C-HeartBeat'\n",
    "iotd.loc[(iotd.label == '(empty)   Malicious   C&C-HeartBeat'), 'label'] = 'C&C-HeartBeat'\n",
    "iotd.loc[(iotd.label == '-   Malicious   C&C-FileDownload'), 'label'] = 'C&C-FileDownload'\n",
    "iotd.loc[(iotd.label == '-   Malicious   C&C-Torii'), 'label'] = 'C&C-Torii'\n",
    "iotd.loc[(iotd.label == '-   Malicious   C&C-HeartBeat-FileDownload'), 'label'] = 'C&C-HeartBeat-FileDownload'\n",
    "iotd.loc[(iotd.label == '-   Malicious   FileDownload'), 'label'] = 'FileDownload'\n",
    "iotd.loc[(iotd.label == '-   Malicious   C&C-Mirai'), 'label'] = 'C&C-Mirai'\n",
    "iotd.loc[(iotd.label == '-   Malicious   Okiru-Attack'), 'label'] = 'Okiru-Attack'"
   ]
  },
  {
   "cell_type": "code",
   "execution_count": null,
   "id": "c812efd2",
   "metadata": {},
   "outputs": [],
   "source": [
    "#cic에 없는 feature명 추가\n",
    "cicd = cicd.reindex(columns = cicd.columns.tolist() +['service', 'conn_state', 'local_orig', 'local_resp', 'missed_bytes', 'history' ])"
   ]
  },
  {
   "cell_type": "code",
   "execution_count": null,
   "id": "234b5664",
   "metadata": {},
   "outputs": [],
   "source": [
    "#필요 없는 ip, port 관련 feature drop\n",
    "cicd = cicd.drop(columns=['Flow ID', 'Source IP', 'Source Port', 'Destination IP', 'Destination Port','Timestamp'])"
   ]
  },
  {
   "cell_type": "code",
   "execution_count": null,
   "id": "192bc533",
   "metadata": {},
   "outputs": [],
   "source": [
    "iotd = iotd.drop(columns=['uid', 'id.orig_h', 'id.orig_p', 'id.resp_h', 'id.resp_p'])"
   ]
  },
  {
   "cell_type": "code",
   "execution_count": null,
   "id": "528bca91",
   "metadata": {},
   "outputs": [],
   "source": [
    "iotd = iotd.rename(columns={'ts':'Timestamp', 'duration':'Flow Duration','orig_pkts':'Total Fwd Packets', 'resp_pkts':'Total Backward Packets', 'proto':'Protocol', 'orig_bytes':'Fwd Packet Length Mean' , 'resp_bytes': 'Bwd Packet Length Mean' , 'orig_ip_bytes': 'Fwd Packets/s' ,'resp_ip_bytes': 'Bwd Packets/s' ,'label': 'Label' })"
   ]
  },
  {
   "cell_type": "code",
   "execution_count": null,
   "id": "e7ab7c70",
   "metadata": {},
   "outputs": [],
   "source": [
    "iotd = iotd.replace('Benign', 'BENIGN' )\n",
    "iotd = iotd.replace('C&C-HeartBeat', 'C&C' )\n",
    "iotd = iotd.replace('C&C-FileDownload', 'C&C' )\n",
    "iotd = iotd.replace('C&C-Torii', 'C&C' )\n",
    "iotd = iotd.replace('C&C-HeartBeat-FileDownload', 'C&C' )\n",
    "iotd = iotd.replace('C&C-Mirai', 'C&C' )\n",
    "iotd = iotd.replace('PartOfAHorizontalPortScan', 'PortScan' )\n",
    "\n",
    "iotd = iotd.replace('tcp', '6' )\n",
    "iotd = iotd.replace('udp', '17' )\n",
    "iotd = iotd.replace('icmp', '1' )"
   ]
  },
  {
   "cell_type": "code",
   "execution_count": null,
   "id": "a888941e",
   "metadata": {},
   "outputs": [],
   "source": [
    "cicd['Label'].value_counts()"
   ]
  },
  {
   "cell_type": "code",
   "execution_count": null,
   "id": "62cbe7d2",
   "metadata": {},
   "outputs": [],
   "source": [
    "cicd = cicd.replace('DoS Hulk', 'DoS' )\n",
    "cicd = cicd.replace('DoS GoldenEye', 'DoS' )\n",
    "cicd = cicd.replace('DoS slowloris', 'DoS' )\n",
    "cicd = cicd.replace('DoS Slowhttptest', 'DoS' )"
   ]
  },
  {
   "cell_type": "code",
   "execution_count": null,
   "id": "d4f63f9b",
   "metadata": {},
   "outputs": [],
   "source": [
    "#iot23에 없는 피처명 추가\n",
    "iotd = iotd.reindex(columns = iotd.columns.tolist() + ['Total Length of Fwd Packets', 'Total Length of Bwd Packets', 'Fwd Packet Length Max', 'Fwd Packet Length Min' , 'Fwd Packet Length Std', 'Bwd Packet Length Max', 'Bwd Packet Length Min', 'Bwd Packet Length Std', 'Flow Bytes/s', 'Flow Packets/s', 'Flow IAT Mean', 'Flow IAT Std', 'Flow IAT Max', 'Flow IAT Min', 'Fwd IAT Total', 'Fwd IAT Mean', 'Fwd IAT Std', 'Fwd IAT Max', 'Fwd IAT Min', 'Bwd IAT Total', 'Bwd IAT Mean', 'Bwd IAT Std', 'Bwd IAT Max', 'Bwd IAT Min', 'Fwd PSH Flags', 'Bwd PSH Flags', 'Fwd URG Flags', 'Bwd URG Flags', 'Fwd Header Length', 'Bwd Header Length', 'Min Packet Length', 'Max Packet Length', 'Packet Length Mean', 'Packet Length Std', 'Packet Length Variance', 'FIN Flag Count', 'SYN Flag Count', 'RST Flag Count', 'PSH Flag Count', 'ACK Flag Count', 'URG Flag Count', 'CWE Flag Count', 'ECE Flag Count', 'Down/Up Ratio', 'Average Packet Size', 'Avg Fwd Segment Size', 'Avg Bwd Segment Size', 'Fwd Avg Bytes/Bulk', 'Fwd Avg Packets/Bulk', 'Fwd Avg Bulk Rate', 'Bwd Avg Bytes/Bulk', 'Bwd Avg Packets/Bulk', 'Bwd Avg Bulk Rate', 'Subflow Fwd Packets', 'Subflow Fwd Bytes', 'Subflow Bwd Packets', 'Subflow Bwd Bytes', 'Init_Win_bytes_forward', 'Init_Win_bytes_backward', 'act_data_pkt_fwd', 'min_seg_size_forward', 'Active Mean', 'Active Std', 'Active Max', 'Active Min', 'Idle Mean', 'Idle Std', 'Idle Max', 'Idle Min', 'External IP'])"
   ]
  },
  {
   "cell_type": "code",
   "execution_count": null,
   "id": "9aab4aaa",
   "metadata": {},
   "outputs": [],
   "source": [
    "cicd = cicd.drop(columns=['External IP'])"
   ]
  },
  {
   "cell_type": "code",
   "execution_count": null,
   "id": "561e0dac",
   "metadata": {},
   "outputs": [],
   "source": [
    "#데이터 합치기\n",
    "frames = [iotd, cicd]\n",
    "df_merge = pd.concat(frames)"
   ]
  },
  {
   "cell_type": "code",
   "execution_count": null,
   "id": "0d2ba33a",
   "metadata": {},
   "outputs": [],
   "source": [
    "#결측치 체크\n",
    "cicd.isna().sum()"
   ]
  },
  {
   "cell_type": "code",
   "execution_count": null,
   "id": "a9d30e5b",
   "metadata": {},
   "outputs": [],
   "source": [
    "#결측치 채우기\n",
    "cicd.fillna(-1,inplace=True)\n",
    "iotd.fillna(-1,inplace=True)\n",
    "df_merge.fillna(-1,inplace=True)"
   ]
  },
  {
   "cell_type": "code",
   "execution_count": null,
   "id": "c3994d2f",
   "metadata": {},
   "outputs": [],
   "source": [
    "iotd = iotd.drop(columns=['uid', 'id.orig_h', 'id.resp_h', 'service', 'Flow Duration', 'Fwd Packet Length Mean', 'Bwd Packet Length Mean', 'local_orig', 'local_resp', 'history'])"
   ]
  },
  {
   "cell_type": "code",
   "execution_count": null,
   "id": "9ab48172",
   "metadata": {},
   "outputs": [],
   "source": [
    "df_merge = df_merge.drop(columns=['Timestamp'])"
   ]
  },
  {
   "cell_type": "code",
   "execution_count": null,
   "id": "6a1e19c0",
   "metadata": {},
   "outputs": [],
   "source": [
    "df_merge['Protocol'] = df_merge['Protocol'].replace('tcp',6)\n",
    "df_merge['Protocol'] = df_merge['Protocol'].replace('udp',17)\n",
    "df_merge['Protocol'] = df_merge['Protocol'].replace('icmp',1)"
   ]
  },
  {
   "cell_type": "code",
   "execution_count": null,
   "id": "779bd50e",
   "metadata": {},
   "outputs": [],
   "source": [
    "df_merge = df_merge.astype({'Protocol':'float'})"
   ]
  },
  {
   "cell_type": "code",
   "execution_count": null,
   "id": "53ab424e",
   "metadata": {},
   "outputs": [],
   "source": [
    "df_merge['conn_state'] = df_merge['conn_state'].replace('-1',0)\n",
    "df_merge['conn_state'] = df_merge['conn_state'].replace('S0',1)\n",
    "df_merge['conn_state'] = df_merge['conn_state'].replace('OTH',2)\n",
    "df_merge['conn_state'] = df_merge['conn_state'].replace('SF',3)\n",
    "df_merge['conn_state'] = df_merge['conn_state'].replace('REJ',4)\n",
    "df_merge['conn_state'] = df_merge['conn_state'].replace('S3',5)\n",
    "df_merge['conn_state'] = df_merge['conn_state'].replace('RSTR',6)\n",
    "df_merge['conn_state'] = df_merge['conn_state'].replace('RSTO',7)\n",
    "df_merge['conn_state'] = df_merge['conn_state'].replace('S1',8)\n",
    "df_merge['conn_state'] = df_merge['conn_state'].replace('RSTOS0',9)\n",
    "df_merge['conn_state'] = df_merge['conn_state'].replace('S2',10)\n",
    "df_merge['conn_state'] = df_merge['conn_state'].replace('SH',11)\n",
    "df_merge['conn_state'] = df_merge['conn_state'].replace('RSTRH',12)\n",
    "df_merge['conn_state'] = df_merge['conn_state'].replace('SHR',13)"
   ]
  },
  {
   "cell_type": "code",
   "execution_count": null,
   "id": "aafe70e2",
   "metadata": {},
   "outputs": [],
   "source": [
    "iotd['conn_state'] = iotd['conn_state'].replace('-1',0)\n",
    "iotd['conn_state'] = iotd['conn_state'].replace('S0',1)\n",
    "iotd['conn_state'] = iotd['conn_state'].replace('OTH',2)\n",
    "iotd['conn_state'] = iotd['conn_state'].replace('SF',3)\n",
    "iotd['conn_state'] = iotd['conn_state'].replace('REJ',4)\n",
    "iotd['conn_state'] = iotd['conn_state'].replace('S3',5)\n",
    "iotd['conn_state'] = iotd['conn_state'].replace('RSTR',6)\n",
    "iotd['conn_state'] = iotd['conn_state'].replace('RSTO',7)\n",
    "iotd['conn_state'] = iotd['conn_state'].replace('S1',8)\n",
    "iotd['conn_state'] = iotd['conn_state'].replace('RSTOS0',9)\n",
    "iotd['conn_state'] = iotd['conn_state'].replace('S2',10)\n",
    "iotd['conn_state'] = iotd['conn_state'].replace('SH',11)\n",
    "iotd['conn_state'] = iotd['conn_state'].replace('RSTRH',12)\n",
    "iotd['conn_state'] = iotd['conn_state'].replace('SHR',13)"
   ]
  },
  {
   "cell_type": "code",
   "execution_count": null,
   "id": "c7d6a92e",
   "metadata": {},
   "outputs": [],
   "source": [
    "df_merge = df_merge.astype({'conn_state':'float'})"
   ]
  },
  {
   "cell_type": "code",
   "execution_count": null,
   "id": "7d59219a",
   "metadata": {},
   "outputs": [],
   "source": [
    "df_merge = df_merge.drop(columns=['service', 'local_orig', 'local_resp', 'history'])"
   ]
  },
  {
   "cell_type": "code",
   "execution_count": null,
   "id": "2ad6b757",
   "metadata": {},
   "outputs": [],
   "source": [
    "X = df_merge[['Protocol', 'Flow Duration', 'Fwd Packet Length Mean', 'Bwd Packet Length Mean', 'conn_state', 'missed_bytes', 'Total Fwd Packets', 'Fwd Packets/s', 'Total Backward Packets', 'Bwd Packets/s','Total Length of Fwd Packets', 'Total Length of Bwd Packets', 'Fwd Packet Length Max', 'Fwd Packet Length Min', 'Fwd Packet Length Std', 'Bwd Packet Length Max', 'Bwd Packet Length Min', 'Bwd Packet Length Std', 'Flow Bytes/s', 'Flow Packets/s', 'Flow IAT Mean', 'Flow IAT Std', 'Flow IAT Max', 'Flow IAT Min', 'Fwd IAT Total', 'Fwd IAT Mean', 'Fwd IAT Std', 'Fwd IAT Max', 'Fwd IAT Min', 'Bwd IAT Total', 'Bwd IAT Mean', 'Bwd IAT Std', 'Bwd IAT Max', 'Bwd IAT Min', 'Fwd PSH Flags', 'Bwd PSH Flags', 'Fwd URG Flags', 'Bwd URG Flags', 'Fwd Header Length', 'Bwd Header Length', 'Min Packet Length', 'Max Packet Length', 'Packet Length Mean', 'Packet Length Std', 'Packet Length Variance', 'FIN Flag Count', 'SYN Flag Count', 'RST Flag Count', 'PSH Flag Count', 'ACK Flag Count', 'URG Flag Count', 'CWE Flag Count', 'ECE Flag Count', 'Down/Up Ratio', 'Average Packet Size', 'Avg Fwd Segment Size', 'Avg Bwd Segment Size', 'Fwd Avg Bytes/Bulk', 'Fwd Avg Packets/Bulk', 'Fwd Avg Bulk Rate', 'Bwd Avg Bytes/Bulk', 'Bwd Avg Packets/Bulk', 'Bwd Avg Bulk Rate', 'Subflow Fwd Packets', 'Subflow Fwd Bytes', 'Subflow Bwd Packets', 'Subflow Bwd Bytes', 'Init_Win_bytes_forward', 'Init_Win_bytes_backward', 'act_data_pkt_fwd', 'min_seg_size_forward', 'Active Mean', 'Active Std', 'Active Max', 'Active Min', 'Idle Mean', 'Idle Std', 'Idle Max', 'Idle Min' ]]\n",
    "y = df_merge['Label'] \n",
    "\n",
    "labels = X.columns\n",
    "\n",
    "from sklearn.ensemble import RandomForestClassifier\n",
    "model = RandomForestClassifier()\n",
    "model.fit(X, y)\n",
    "\n",
    "importance = model.feature_importances_\n",
    "std = np.std([tree.feature_importances_ for tree in model.estimators_], axis=0)\n",
    "indices = np.argsort(importance)[::-1]\n",
    "\n",
    "print(\"Feature ranking:\")\n",
    "\n",
    "for f in range(X.shape[1]):\n",
    "    print(\"{}. {} ({:.5f})\".format(f + 1, X.columns[indices][f], importance[indices[f]]))"
   ]
  },
  {
   "cell_type": "code",
   "execution_count": null,
   "id": "c25f2b40",
   "metadata": {},
   "outputs": [],
   "source": [
    "from sklearn.ensemble import RandomForestClassifier\n",
    "\n",
    "RF = RandomForestClassifier()"
   ]
  },
  {
   "cell_type": "code",
   "execution_count": null,
   "id": "e8c4c8fd",
   "metadata": {},
   "outputs": [],
   "source": [
    "#feature importance 실험 결과 높게 나온 feature 6개를 각각의 데이터셋에 추가(공통 feature를 제외한 순위)\n",
    "iotd['Fwd IAT Min']=np.NaN\n",
    "iotd['Packet Length Std']=np.NaN\n",
    "iotd['Total Length of Fwd Packets']=np.NaN\n",
    "iotd['Bwd IAT Mean']=np.NaN\n",
    "iotd['Bwd Packet Length Min']=np.NaN\n",
    "iotd['Total Length of Fwd Packets']=np.NaN"
   ]
  },
  {
   "cell_type": "code",
   "execution_count": null,
   "id": "4d061ea2",
   "metadata": {},
   "outputs": [],
   "source": [
    "cicd['conn_state']=np.NaN"
   ]
  },
  {
   "cell_type": "code",
   "execution_count": null,
   "id": "34b36a90",
   "metadata": {},
   "outputs": [],
   "source": [
    "X = df_merge[['Protocol', 'Flow Duration', 'Bwd Packet Length Mean',  'Fwd Packet Length Mean',  'Fwd Packets/s', 'Bwd Packets/s','Total Fwd Packets', 'Total Backward Packets', 'Fwd IAT Min', 'conn_state', 'Packet Length Std', 'Total Length of Fwd Packets', 'Bwd IAT Mean', 'Bwd Packet Length Min']]\n",
    "Y = df_merge['Label']\n",
    "X_train, X_test, Y_train, Y_test = train_test_split(X, Y, random_state=10, test_size=0.2)"
   ]
  },
  {
   "cell_type": "code",
   "execution_count": null,
   "id": "ea16f6ee",
   "metadata": {},
   "outputs": [],
   "source": [
    "Z = cicd[['Protocol', 'Flow Duration', 'Bwd Packet Length Mean',  'Fwd Packet Length Mean',  'Fwd Packets/s', 'Bwd Packets/s','Total Fwd Packets', 'Total Backward Packets', 'Fwd IAT Min', 'conn_state', 'Packet Length Std', 'Total Length of Fwd Packets', 'Bwd IAT Mean', 'Bwd Packet Length Min']]\n",
    "W = cicd['Label']\n",
    "Z_train, Z_test, W_train, W_test = train_test_split(Z, W, random_state=10, test_size=0.4)"
   ]
  },
  {
   "cell_type": "code",
   "execution_count": null,
   "id": "2e4a78cb",
   "metadata": {},
   "outputs": [],
   "source": [
    "X_test = Z_test\n",
    "Y_test = W_test"
   ]
  },
  {
   "cell_type": "code",
   "execution_count": null,
   "id": "a9ecbedc",
   "metadata": {},
   "outputs": [],
   "source": [
    "start = time.time()\n",
    "print('program start...')\n",
    "print()\n",
    "\n",
    "RF.fit(X_train, Y_train)  # fit() : 훈련 수행\n",
    "print()\n",
    "print('prediction:')\n",
    "y_pred = RF.predict(X_test)  # predict() : 모델 훈련 후 예측\n",
    "print(y_pred)\n",
    "print()\n",
    "\n",
    "print('Score:')\n",
    "score = RF.score(X_test,Y_test)  # score() : 평가 점수 계산\n",
    "print(score)\n",
    "\n",
    "end = time.time()  # 현재 시각 구하기\n",
    "print('program end...')\n",
    "print()\n",
    "print('time cost: ')\n",
    "print(end - start, 'seconds')\n",
    "print(\"Classifiction Report :\")\n",
    "print(classification_report(Y_test, y_pred))"
   ]
  }
 ],
 "metadata": {
  "kernelspec": {
   "display_name": "Python 3",
   "language": "python",
   "name": "python3"
  },
  "language_info": {
   "codemirror_mode": {
    "name": "ipython",
    "version": 3
   },
   "file_extension": ".py",
   "mimetype": "text/x-python",
   "name": "python",
   "nbconvert_exporter": "python",
   "pygments_lexer": "ipython3",
   "version": "3.8.8"
  }
 },
 "nbformat": 4,
 "nbformat_minor": 5
}
