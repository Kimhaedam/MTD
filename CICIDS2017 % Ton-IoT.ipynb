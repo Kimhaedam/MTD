{
 "cells": [
  {
   "cell_type": "code",
   "execution_count": null,
   "id": "69f4b8f4",
   "metadata": {},
   "outputs": [],
   "source": [
    "import pandas as pd"
   ]
  },
  {
   "cell_type": "code",
   "execution_count": null,
   "id": "38c47bbd",
   "metadata": {},
   "outputs": [],
   "source": [
    "cic = pd.read_csv('cicids2017_preprocessed.csv')"
   ]
  },
  {
   "cell_type": "code",
   "execution_count": null,
   "id": "dfc669d2",
   "metadata": {},
   "outputs": [],
   "source": [
    "ton = pd.read_csv('type_before_pre_ton.csv')"
   ]
  },
  {
   "cell_type": "code",
   "execution_count": null,
   "id": "47b7f4e4",
   "metadata": {},
   "outputs": [],
   "source": [
    "del ton['Unnamed: 0'] "
   ]
  },
  {
   "cell_type": "code",
   "execution_count": null,
   "id": "acb3add0",
   "metadata": {},
   "outputs": [],
   "source": [
    "# 공통 feature 제외하고 제거"
   ]
  },
  {
   "cell_type": "code",
   "execution_count": null,
   "id": "f0746e86",
   "metadata": {},
   "outputs": [],
   "source": [
    "cic_p = cic.drop(['Flow ID', 'Source IP', 'Source Port', 'Destination IP', 'Destination Port', 'Timestamp', 'Total Length of Fwd Packets', 'Total Length of Bwd Packets', 'Fwd Packet Length Max', 'Fwd Packet Length Min', 'Fwd Packet Length Std', 'Bwd Packet Length Max', 'Bwd Packet Length Min', 'Bwd Packet Length Std', 'Flow Bytes/s', 'Flow Packets/s', 'Flow IAT Mean', 'Flow IAT Std', 'Flow IAT Max', 'Flow IAT Min', 'Fwd IAT Total', 'Fwd IAT Mean', 'Fwd IAT Std', 'Fwd IAT Max', 'Fwd IAT Min', 'Bwd IAT Total', 'Bwd IAT Mean', 'Bwd IAT Std', 'Bwd IAT Max', 'Bwd IAT Min', 'Fwd PSH Flags', 'Bwd PSH Flags', 'Fwd URG Flags', 'Bwd URG Flags', 'Fwd Header Length', 'Bwd Header Length', 'Min Packet Length', 'Max Packet Length', 'Packet Length Mean', 'Packet Length Std', 'Packet Length Variance', 'FIN Flag Count', 'SYN Flag Count', 'RST Flag Count', 'PSH Flag Count', 'ACK Flag Count', 'URG Flag Count', 'CWE Flag Count', 'ECE Flag Count', 'Down/Up Ratio', 'Average Packet Size', 'Avg Fwd Segment Size', 'Avg Bwd Segment Size', 'Fwd Avg Bytes/Bulk', 'Fwd Avg Packets/Bulk', 'Fwd Avg Bulk Rate', 'Bwd Avg Bytes/Bulk', 'Bwd Avg Packets/Bulk', 'Bwd Avg Bulk Rate', 'Subflow Fwd Packets', 'Subflow Fwd Bytes', 'Subflow Bwd Packets', 'Subflow Bwd Bytes', 'Init_Win_bytes_forward', 'Init_Win_bytes_backward', 'act_data_pkt_fwd', 'min_seg_size_forward', 'Active Mean', 'Active Std', 'Active Max', 'Active Min', 'Idle Mean', 'Idle Std', 'Idle Max', 'Idle Min', 'External IP'], axis= 'columns')"
   ]
  },
  {
   "cell_type": "code",
   "execution_count": null,
   "id": "fb9c3ab8",
   "metadata": {},
   "outputs": [],
   "source": [
    "ton_p = ton.drop(['ts', 'src_port', 'dst_port', 'service', 'conn_state', 'missed_bytes', 'dns_qclass', 'dns_qtype', 'dns_rcode', 'dns_AA', 'dns_RD', 'dns_RA', 'dns_rejected', 'ssl_version', 'ssl_cipher', 'ssl_resumed', 'ssl_established', 'ssl_subject', 'ssl_issuer', 'http_trans_depth', 'http_method', 'http_version', 'http_request_body_len', 'http_response_body_len', 'http_status_code', 'http_orig_mime_types', 'http_resp_mime_types', 'weird_name', 'weird_addl', 'weird_notice','label'], axis= 'columns')"
   ]
  },
  {
   "cell_type": "code",
   "execution_count": null,
   "id": "4c618398",
   "metadata": {},
   "outputs": [],
   "source": [
    "# 공통 feature 이름 매핑"
   ]
  },
  {
   "cell_type": "code",
   "execution_count": null,
   "id": "003709dd",
   "metadata": {},
   "outputs": [],
   "source": [
    "ton_p.rename(columns = {'duration':'Flow Duration','proto':'Protocol','src_bytes':'Fwd Packet Length Mean','dst_bytes':'Bwd Packet Length Mean','src_pkts':'Total Fwd Packets','src_ip_bytes':'Fwd Packets/s','dst_pkts':'Total Bwd Packets','dst_ip_bytes':'Bwd Packets/s','type':'Label'},inplace=True)\n",
    "cic_p.rename(columns = {'Total Backward Packets':'Total Bwd Packets'},inplace=True)"
   ]
  },
  {
   "cell_type": "code",
   "execution_count": null,
   "id": "e13c6425",
   "metadata": {},
   "outputs": [],
   "source": [
    "# feature 타입 통일"
   ]
  },
  {
   "cell_type": "code",
   "execution_count": null,
   "id": "b334cb6a",
   "metadata": {},
   "outputs": [],
   "source": [
    "cic_p = cic_p.astype({'Flow Duration':'float'})\n",
    "cic_p = cic_p.astype({'Total Fwd Packets':'float'})\n",
    "cic_p = cic_p.astype({'Total Bwd Packets':'float'})"
   ]
  },
  {
   "cell_type": "code",
   "execution_count": null,
   "id": "831dcadd",
   "metadata": {},
   "outputs": [],
   "source": [
    "# Ton-IoT 데이터셋 크기에 맞게 Sampling"
   ]
  },
  {
   "cell_type": "code",
   "execution_count": null,
   "id": "448faf1b",
   "metadata": {},
   "outputs": [],
   "source": [
    "cic_s = cic_p.sample(n=461043, replace=False, axis=0)"
   ]
  },
  {
   "cell_type": "code",
   "execution_count": null,
   "id": "0f3cec65",
   "metadata": {},
   "outputs": [],
   "source": [
    "frames = [cic_s, ton_p]\n",
    "df = pd.concat(frames)"
   ]
  },
  {
   "cell_type": "code",
   "execution_count": null,
   "id": "addc9bc6",
   "metadata": {},
   "outputs": [],
   "source": [
    "from sklearn.ensemble import RandomForestClassifier\n",
    "\n",
    "RF = RandomForestClassifier()"
   ]
  },
  {
   "cell_type": "code",
   "execution_count": null,
   "id": "162b0dd7",
   "metadata": {},
   "outputs": [],
   "source": [
    "import pandas as pd\n",
    "from sklearn.svm import SVC\n",
    "from sklearn.model_selection import GridSearchCV\n",
    "from sklearn.metrics import classification_report, confusion_matrix\n",
    "from sklearn.model_selection import train_test_split\n",
    "import time\n",
    "import numpy as np\n",
    "import seaborn as sns\n",
    "import matplotlib.pyplot as plt"
   ]
  },
  {
   "cell_type": "code",
   "execution_count": null,
   "id": "9ad6d188",
   "metadata": {},
   "outputs": [],
   "source": [
    "# 단일 데이터셋(Ton-IoT)으로 테스트"
   ]
  },
  {
   "cell_type": "code",
   "execution_count": null,
   "id": "45caeff5",
   "metadata": {},
   "outputs": [],
   "source": [
    "X = df[['Protocol', 'Flow Duration', 'Total Fwd Packets', 'Total Bwd Packets', 'Fwd Packet Length Mean', 'Bwd Packet Length Mean', 'Fwd Packets/s', 'Bwd Packets/s']]\n",
    "Y = df['Label']\n",
    "X_train, X_test, Y_train, Y_test = train_test_split(X, Y, random_state=10, test_size=0.2)"
   ]
  },
  {
   "cell_type": "code",
   "execution_count": null,
   "id": "14e88922",
   "metadata": {},
   "outputs": [],
   "source": [
    "Z = ton[['Protocol', 'Flow Duration', 'Total Fwd Packets', 'Total Bwd Packets', 'Fwd Packet Length Mean', 'Bwd Packet Length Mean', 'Fwd Packets/s', 'Bwd Packets/s']]\n",
    "W = ton['Label']\n",
    "Z_train, Z_test, W_train, W_test = train_test_split(Z, W, random_state=10, test_size=0.4)"
   ]
  },
  {
   "cell_type": "code",
   "execution_count": null,
   "id": "a51d9df3",
   "metadata": {},
   "outputs": [],
   "source": [
    "# 테스트 데이터셋을 Ton-IoT 데이터셋으로 교체"
   ]
  },
  {
   "cell_type": "code",
   "execution_count": null,
   "id": "4209c86e",
   "metadata": {},
   "outputs": [],
   "source": [
    "X_test = Z_test\n",
    "Y_test = W_test"
   ]
  },
  {
   "cell_type": "code",
   "execution_count": null,
   "id": "0bf40e80",
   "metadata": {},
   "outputs": [],
   "source": [
    "start = time.time()\n",
    "print('program start...')\n",
    "print()\n",
    "\n",
    "RF.fit(X_train, Y_train)  # fit() : 훈련 수행\n",
    "print()\n",
    "\n",
    "print('prediction:')\n",
    "y_pred = RF.predict(X_test)  # predict() : 모델 훈련 후 예측\n",
    "print(y_pred)\n",
    "print()\n",
    "\n",
    "print('Score:')\n",
    "score = RF.score(X_test,Y_test)  # score() : 평가 점수 계산\n",
    "print(score)\n",
    "\n",
    "end = time.time()  # 현재 시각 구하기\n",
    "print('program end...')\n",
    "print()\n",
    "print('time cost: ')\n",
    "print(end - start, 'seconds')\n",
    "\n",
    "print(\"Classifiction Report :\")\n",
    "print(classification_report(Y_test, y_pred))"
   ]
  },
  {
   "cell_type": "code",
   "execution_count": null,
   "id": "9017e555",
   "metadata": {},
   "outputs": [],
   "source": [
    "# 이종의 데이터셋으로 실험"
   ]
  },
  {
   "cell_type": "code",
   "execution_count": null,
   "id": "f2c020ec",
   "metadata": {},
   "outputs": [],
   "source": [
    "X = df[['Protocol', 'Flow Duration', 'Total Fwd Packets', 'Total Bwd Packets', 'Fwd Packet Length Mean', 'Bwd Packet Length Mean', 'Fwd Packets/s', 'Bwd Packets/s']]\n",
    "Y = df['Label']\n",
    "X_train, X_test, Y_train, Y_test = train_test_split(X, Y, random_state=10, test_size=0.2)"
   ]
  },
  {
   "cell_type": "code",
   "execution_count": null,
   "id": "c1e85354",
   "metadata": {},
   "outputs": [],
   "source": [
    "start = time.time()\n",
    "print('program start...')\n",
    "print()\n",
    "\n",
    "RF.fit(X_train, Y_train)  # fit() : 훈련 수행\n",
    "print()\n",
    "\n",
    "print('prediction:')\n",
    "y_pred = RF.predict(X_test)  # predict() : 모델 훈련 후 예측\n",
    "print(y_pred)\n",
    "print()\n",
    "\n",
    "print('Score:')\n",
    "score = RF.score(X_test,Y_test)  # score() : 평가 점수 계산\n",
    "print(score)\n",
    "\n",
    "end = time.time()  # 현재 시각 구하기\n",
    "print('program end...')\n",
    "print()\n",
    "print('time cost: ')\n",
    "print(end - start, 'seconds')\n",
    "\n",
    "print(\"Classifiction Report :\")\n",
    "print(classification_report(Y_test, y_pred))"
   ]
  }
 ],
 "metadata": {
  "kernelspec": {
   "display_name": "Python 3 (ipykernel)",
   "language": "python",
   "name": "python3"
  },
  "language_info": {
   "codemirror_mode": {
    "name": "ipython",
    "version": 3
   },
   "file_extension": ".py",
   "mimetype": "text/x-python",
   "name": "python",
   "nbconvert_exporter": "python",
   "pygments_lexer": "ipython3",
   "version": "3.9.12"
  }
 },
 "nbformat": 4,
 "nbformat_minor": 5
}
