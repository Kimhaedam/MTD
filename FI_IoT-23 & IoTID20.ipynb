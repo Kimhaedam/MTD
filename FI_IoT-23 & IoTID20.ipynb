{
 "cells": [
  {
   "cell_type": "code",
   "execution_count": null,
   "id": "f7a9ece5",
   "metadata": {},
   "outputs": [],
   "source": [
    "import pandas as pd\n",
    "from sklearn.svm import SVC\n",
    "from sklearn.model_selection import GridSearchCV\n",
    "from sklearn.metrics import classification_report, confusion_matrix\n",
    "from sklearn.model_selection import train_test_split\n",
    "import time\n",
    "import numpy as np\n",
    "import seaborn as sns\n",
    "import matplotlib.pyplot as plt\n",
    "from sklearn.tree import DecisionTreeClassifier"
   ]
  },
  {
   "cell_type": "code",
   "execution_count": null,
   "id": "4a9336c9",
   "metadata": {},
   "outputs": [],
   "source": [
    "filepath = \"iot23_original.csv\"\n",
    "df_iot = pd.read_csv(filepath)\n",
    "del df_iot['Unnamed: 0']"
   ]
  },
  {
   "cell_type": "code",
   "execution_count": null,
   "id": "400cd4c1",
   "metadata": {},
   "outputs": [],
   "source": [
    "df_iot= df_iot.drop(columns=['Timestamp', 'Src_IP','Dst_IP', 'Dst_Port','Src_Port','uid','service','conn_state', 'local_orig', 'local_resp', 'missed_bytes', 'history'])\n",
    "#필요없는 피처 drop"
   ]
  },
  {
   "cell_type": "code",
   "execution_count": null,
   "id": "9f3d216c",
   "metadata": {},
   "outputs": [],
   "source": [
    "#df_iot.to_csv('IoT_23_process.csv')"
   ]
  },
  {
   "cell_type": "code",
   "execution_count": null,
   "id": "5c0dded6",
   "metadata": {},
   "outputs": [],
   "source": [
    "filepath1 = \"IoT_23_process.csv\"\n",
    "df_iot23 = pd.read_csv(filepath1)\n",
    "del df_iot23['Unnamed: 0']"
   ]
  },
  {
   "cell_type": "code",
   "execution_count": null,
   "id": "c6f3df69",
   "metadata": {},
   "outputs": [],
   "source": [
    "filepath1 = \"all_data.csv\"\n",
    "df_iot20 = pd.read_csv(filepath1)"
   ]
  },
  {
   "cell_type": "code",
   "execution_count": null,
   "id": "6bd1bb16",
   "metadata": {},
   "outputs": [],
   "source": [
    "df_iot23= df_iot23.reindex(columns = df_iot23.columns.tolist() + ['Flow_Pkts/s', 'Flow_IAT_Mean', 'Flow_IAT_Max', 'Bwd_IAT_Tot',  'Bwd_IAT_Max', 'Init_Bwd_Win_Byts'])\n",
    "#공통 피처 9개에 상위 6개 피처 추가"
   ]
  },
  {
   "cell_type": "code",
   "execution_count": null,
   "id": "ffc0372c",
   "metadata": {},
   "outputs": [],
   "source": [
    "df_iot20= df_iot20.drop(columns=['Bwd_IAT_Mean','Src_Port', 'Src_IP','Dst_IP', 'Dst_Port','Timestamp','Flow_ID','TotLen_Fwd_Pkts', 'TotLen_Bwd_Pkts', 'Fwd_Pkt_Len_Max', 'Fwd_Pkt_Len_Min','Fwd_Pkt_Len_Std', 'Bwd_Pkt_Len_Max', 'Bwd_Pkt_Len_Min','Bwd_Pkt_Len_Std', 'Flow_Byts/s',  'Flow_IAT_Std', 'Flow_IAT_Min', 'Fwd_IAT_Tot', 'Fwd_IAT_Mean', 'Fwd_IAT_Std', 'Fwd_IAT_Max', 'Fwd_IAT_Min',  'Bwd_IAT_Std', 'Bwd_IAT_Min', 'Fwd_PSH_Flags', 'Bwd_PSH_Flags', 'Fwd_URG_Flags', 'Bwd_URG_Flags', 'Fwd_Header_Len', 'Bwd_Header_Len', 'Pkt_Len_Min', 'Pkt_Len_Max', 'Pkt_Len_Mean', 'Pkt_Len_Std', 'Pkt_Len_Var', 'FIN_Flag_Cnt', 'SYN_Flag_Cnt', 'RST_Flag_Cnt', 'PSH_Flag_Cnt', 'ACK_Flag_Cnt', 'URG_Flag_Cnt', 'CWE_Flag_Count', 'ECE_Flag_Cnt', 'Down/Up_Ratio', 'Pkt_Size_Avg', 'Fwd_Seg_Size_Avg', 'Bwd_Seg_Size_Avg', 'Fwd_Pkts/b_Avg', 'Fwd_Blk_Rate_Avg', 'Bwd_Byts/b_Avg', 'Bwd_Pkts/b_Avg', 'Bwd_Blk_Rate_Avg', 'Subflow_Fwd_Pkts', 'Subflow_Fwd_Byts', 'Subflow_Bwd_Pkts', 'Subflow_Bwd_Byts', 'Init_Fwd_Win_Byts', 'Fwd_Act_Data_Pkts', 'Fwd_Seg_Size_Min', 'Active_Mean', 'Active_Std', 'Active_Max', 'Active_Min', 'Idle_Mean', 'Idle_Std', 'Idle_Max', 'Idle_Min', 'Label','Sub_Cat'])\n",
    "#필요없는 피처 drop"
   ]
  },
  {
   "cell_type": "code",
   "execution_count": null,
   "id": "b077e5d3",
   "metadata": {},
   "outputs": [],
   "source": [
    "df_iot20 = df_iot20.rename(columns={'Protocol':'proto','Flow_Duration':'duration','Fwd_Pkt_Len_Mean':'orig_bytes','Bwd_Pkt_Len_Mean':'resp_bytes','Tot_Fwd_Pkts':'orig_pkts', 'Fwd_Pkts/s':'orig_ip_bytes', 'Tot_Bwd_Pkts':'resp_pkts', 'Bwd_Pkts/s':'resp_ip_bytes', 'Cat': 'label'})"
   ]
  },
  {
   "cell_type": "code",
   "execution_count": null,
   "id": "f28ecb98",
   "metadata": {},
   "outputs": [],
   "source": [
    "#df_iot20.to_csv('IoT_20_process.csv')"
   ]
  },
  {
   "cell_type": "code",
   "execution_count": null,
   "id": "2a15cbe1",
   "metadata": {},
   "outputs": [],
   "source": [
    "frames=[df_iot23,df_iot20]"
   ]
  },
  {
   "cell_type": "code",
   "execution_count": null,
   "id": "66791054",
   "metadata": {},
   "outputs": [],
   "source": [
    "df_combined =pd.concat(frames)"
   ]
  },
  {
   "cell_type": "code",
   "execution_count": null,
   "id": "3d44f751",
   "metadata": {},
   "outputs": [],
   "source": [
    "from sklearn.ensemble import RandomForestClassifier\n",
    "\n",
    "RF = RandomForestClassifier()"
   ]
  },
  {
   "cell_type": "code",
   "execution_count": null,
   "id": "c531deeb",
   "metadata": {},
   "outputs": [],
   "source": [
    "X = df_combined[['proto', 'duration', 'orig_bytes', 'resp_bytes', 'orig_pkts', 'orig_ip_bytes', 'resp_pkts', 'resp_ip_bytes', 'Flow_Pkts/s', 'Flow_IAT_Mean', 'Flow_IAT_Max', 'Bwd_IAT_Tot', 'Bwd_IAT_Max', 'Init_Bwd_Win_Byts']]\n",
    "Y = df_combined['label']\n",
    "X_train, X_test, Y_train, Y_test = train_test_split(X, Y, random_state=10, test_size=0.2)"
   ]
  },
  {
   "cell_type": "code",
   "execution_count": null,
   "id": "89783100",
   "metadata": {},
   "outputs": [],
   "source": [
    "Z = df_iot23[['proto', 'duration', 'orig_pkts', 'resp_pkts', 'orig_bytes', 'resp_bytes', 'Flow_Pkts/s', 'Flow_IAT_Mean', 'Flow_IAT_Max', 'Bwd_IAT_Tot', 'Bwd_IAT_Max', 'orig_ip_bytes', 'resp_ip_bytes', 'Init_Bwd_Win_Byts']]\n",
    "W = df_iot23['label']\n",
    "Z_train, Z_test, W_train, W_test = train_test_split(Z, W, random_state=10, test_size=0.4)"
   ]
  },
  {
   "cell_type": "code",
   "execution_count": null,
   "id": "f83a2b82",
   "metadata": {},
   "outputs": [],
   "source": [
    "X_test = Z_test\n",
    "Y_test = W_test"
   ]
  },
  {
   "cell_type": "code",
   "execution_count": null,
   "id": "7742fde4",
   "metadata": {},
   "outputs": [],
   "source": [
    "start = time.time()\n",
    "print('program start...')\n",
    "print()\n",
    "\n",
    "RF.fit(X_train, Y_train)  # fit() : 훈련 수행\n",
    "print()"
   ]
  },
  {
   "cell_type": "code",
   "execution_count": null,
   "id": "05305df0",
   "metadata": {},
   "outputs": [],
   "source": [
    "print('prediction:')\n",
    "y_pred = RF.predict(X_test)  # predict() : 모델 훈련 후 예측\n",
    "print(y_pred)\n",
    "print()\n",
    "\n",
    "print('Score:')\n",
    "score = RF.score(X_test,Y_test)  # score() : 평가 점수 계산\n",
    "print(score)\n",
    "\n",
    "end = time.time()  # 현재 시각 구하기\n",
    "print('program end...')\n",
    "print()\n",
    "print('time cost: ')\n",
    "print(end - start, 'seconds')\n",
    "print('\\n')\n",
    "\n",
    "print(\"Classifiction Report :\")\n",
    "print(classification_report(Y_test, y_pred))"
   ]
  }
 ],
 "metadata": {
  "kernelspec": {
   "display_name": "Python 3 (ipykernel)",
   "language": "python",
   "name": "python3"
  },
  "language_info": {
   "codemirror_mode": {
    "name": "ipython",
    "version": 3
   },
   "file_extension": ".py",
   "mimetype": "text/x-python",
   "name": "python",
   "nbconvert_exporter": "python",
   "pygments_lexer": "ipython3",
   "version": "3.8.3"
  }
 },
 "nbformat": 4,
 "nbformat_minor": 5
}
