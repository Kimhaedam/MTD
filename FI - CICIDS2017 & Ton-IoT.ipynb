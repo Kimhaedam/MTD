{
 "cells": [
  {
   "cell_type": "code",
   "execution_count": null,
   "id": "7edb7478",
   "metadata": {},
   "outputs": [],
   "source": [
    "import pandas as pd"
   ]
  },
  {
   "cell_type": "code",
   "execution_count": null,
   "id": "c6d3ec83",
   "metadata": {},
   "outputs": [],
   "source": [
    "cic = pd.read_csv('cicids2017_preprocessed.csv')"
   ]
  },
  {
   "cell_type": "code",
   "execution_count": null,
   "id": "77b87a58",
   "metadata": {},
   "outputs": [],
   "source": [
    "ton = pd.read_csv('type_before_pre_ton.csv')"
   ]
  },
  {
   "cell_type": "code",
   "execution_count": null,
   "id": "2085057a",
   "metadata": {},
   "outputs": [],
   "source": [
    "del ton['Unnamed: 0'] "
   ]
  },
  {
   "cell_type": "code",
   "execution_count": null,
   "id": "c0dbb6c6",
   "metadata": {},
   "outputs": [],
   "source": [
    "# 불필요한 feature 제거"
   ]
  },
  {
   "cell_type": "code",
   "execution_count": null,
   "id": "f6064847",
   "metadata": {},
   "outputs": [],
   "source": [
    "cic_p = cic.drop(['Source IP', 'Source Port', 'Destination IP', 'Destination Port', 'Timestamp', 'Total Length of Fwd Packets', 'Total Length of Bwd Packets', 'Fwd Packet Length Max', 'Fwd Packet Length Min', 'Fwd Packet Length Std', 'Bwd Packet Length Max', 'Bwd Packet Length Min', 'Bwd Packet Length Std', 'Flow Bytes/s', 'Flow Packets/s', 'Flow IAT Mean', 'Flow IAT Std', 'Flow IAT Max', 'Flow IAT Min', 'Fwd IAT Total', 'Fwd IAT Mean', 'Fwd IAT Std', 'Fwd IAT Max', 'Fwd IAT Min', 'Bwd IAT Total', 'Bwd IAT Mean', 'Bwd IAT Std', 'Bwd IAT Max', 'Bwd IAT Min', 'Fwd PSH Flags', 'Bwd PSH Flags', 'Fwd URG Flags', 'Bwd URG Flags', 'Fwd Header Length', 'Bwd Header Length', 'Min Packet Length', 'Max Packet Length', 'Packet Length Mean', 'Packet Length Std', 'FIN Flag Count', 'SYN Flag Count', 'RST Flag Count', 'PSH Flag Count', 'ACK Flag Count', 'URG Flag Count', 'CWE Flag Count', 'ECE Flag Count', 'Down/Up Ratio', 'Average Packet Size', 'Avg Fwd Segment Size', 'Avg Bwd Segment Size', 'Fwd Avg Bytes/Bulk', 'Fwd Avg Packets/Bulk', 'Fwd Avg Bulk Rate', 'Bwd Avg Bytes/Bulk', 'Bwd Avg Packets/Bulk', 'Bwd Avg Bulk Rate', 'Subflow Fwd Packets', 'Subflow Fwd Bytes', 'Subflow Bwd Packets', 'Init_Win_bytes_backward', 'act_data_pkt_fwd', 'min_seg_size_forward', 'Active Mean', 'Active Std', 'Active Max', 'Active Min', 'Idle Mean', 'Idle Std', 'Idle Max', 'Idle Min', 'External IP'], axis= 'columns')"
   ]
  },
  {
   "cell_type": "code",
   "execution_count": null,
   "id": "852531f3",
   "metadata": {},
   "outputs": [],
   "source": [
    "ton_p = ton.drop(['ts', 'src_port', 'dst_port', 'missed_bytes', 'dns_qclass', 'dns_qtype', 'dns_rcode', 'dns_AA', 'dns_RD', 'dns_RA', 'dns_rejected', 'ssl_version', 'ssl_cipher', 'ssl_resumed', 'ssl_established', 'ssl_subject', 'ssl_issuer', 'http_trans_depth', 'http_method', 'http_version', 'http_request_body_len', 'http_response_body_len', 'http_status_code', 'http_orig_mime_types', 'http_resp_mime_types', 'weird_name', 'weird_addl', 'weird_notice','label'], axis= 'columns')"
   ]
  },
  {
   "cell_type": "code",
   "execution_count": null,
   "id": "08bdb8c7",
   "metadata": {},
   "outputs": [],
   "source": [
    "# 공격 타입 통일"
   ]
  },
  {
   "cell_type": "code",
   "execution_count": null,
   "id": "6b8d05d2",
   "metadata": {},
   "outputs": [],
   "source": [
    "df = df.replace('normal','Benign')\n",
    "df = df.replace('scanning','PortScan')\n",
    "df = df.replace('ddos','DDoS')\n",
    "df = df.replace('dos','DoS')\n",
    "df = df.replace('injection','Injection')\n",
    "df = df.replace('password','Password')\n",
    "df = df.replace('xss','XSS')\n",
    "df = df.replace('ransomware','Ransomware')\n",
    "df = df.replace('backdoor','Backdoor')\n",
    "df = df.replace('mitm','MITM')\n",
    "\n",
    "df = df.replace('BENIGN','Benign')\n",
    "df = df.replace('DoS GoldenEye','DoS')\n",
    "df = df.replace('DoS slowloris','DoS')\n",
    "df = df.replace('DoS Slowhttptest','DoS')\n",
    "df = df.replace('DoS Hulk','DoS')"
   ]
  },
  {
   "cell_type": "code",
   "execution_count": null,
   "id": "c79329cb",
   "metadata": {},
   "outputs": [],
   "source": [
    "ton_p = ton_p.replace('normal','Benign')\n",
    "ton_p = ton_p.replace('scanning','PortScan')\n",
    "ton_p = ton_p.replace('ddos','DDoS')\n",
    "ton_p = ton_p.replace('dos','DoS')\n",
    "ton_p = ton_p.replace('injection','Injection')\n",
    "ton_p = ton_p.replace('password','Password')\n",
    "ton_p = ton_p.replace('xss','XSS')\n",
    "ton_p = ton_p.replace('ransomware','Ransomware')\n",
    "ton_p = ton_p.replace('backdoor','Backdoor')\n",
    "ton_p = ton_p.replace('mitm','MITM')"
   ]
  },
  {
   "cell_type": "code",
   "execution_count": null,
   "id": "9f3491cd",
   "metadata": {},
   "outputs": [],
   "source": [
    "cic_p = cic_p.replace('BENIGN','Benign')\n",
    "cic_p = cic_p.replace('DoS GoldenEye','DoS')\n",
    "cic_p = cic_p.replace('DoS slowloris','DoS')\n",
    "cic_p = cic_p.replace('DoS Slowhttptest','DoS')\n",
    "cic_p = cic_p.replace('DoS Hulk','DoS')"
   ]
  },
  {
   "cell_type": "code",
   "execution_count": null,
   "id": "ce2d29c9",
   "metadata": {},
   "outputs": [],
   "source": [
    "# 공통 feature 이름 매핑"
   ]
  },
  {
   "cell_type": "code",
   "execution_count": null,
   "id": "32f8c051",
   "metadata": {},
   "outputs": [],
   "source": [
    "ton_p.rename(columns = {'duration':'Flow Duration','proto':'Protocol','src_bytes':'Fwd Packet Length Mean','dst_bytes':'Bwd Packet Length Mean','src_pkts':'Total Fwd Packets','src_ip_bytes':'Fwd Packets/s','dst_pkts':'Total Bwd Packets','dst_ip_bytes':'Bwd Packets/s','type':'Label'},inplace=True)\n",
    "cic_p.rename(columns = {'Total Backward Packets':'Total Bwd Packets'},inplace=True)"
   ]
  },
  {
   "cell_type": "code",
   "execution_count": null,
   "id": "671a27a5",
   "metadata": {},
   "outputs": [],
   "source": [
    "ton_p[\"Flow ID\"]=np.NaN\n",
    "ton_p[\"Subflow Bwd Bytes\"]=np.NaN\n",
    "ton_p[\"Init_Win_bytes_forward\"]=np.NaN\n",
    "ton_p[\"Packet Length Variance\"]=np.NaN\n",
    "\n",
    "cic_p[\"conn_state\"]=np.NaN\n",
    "cic_p[\"service\"]=np.NaN"
   ]
  },
  {
   "cell_type": "code",
   "execution_count": null,
   "id": "07d07445",
   "metadata": {},
   "outputs": [],
   "source": [
    "cic_p = cic_p.astype({'Flow ID':'float'})\n",
    "cic_p = cic_p.astype({'Flow Duration':'float'})\n",
    "cic_p = cic_p.astype({'Total Fwd Packets':'float'})\n",
    "cic_p = cic_p.astype({'Total Bwd Packets':'float'})\n",
    "cic_p = cic_p.astype({'Subflow Bwd Bytes':'float'})\n",
    "cic_p = cic_p.astype({'Init_Win_bytes_forward':'float'})"
   ]
  },
  {
   "cell_type": "code",
   "execution_count": null,
   "id": "c2496c94",
   "metadata": {},
   "outputs": [],
   "source": [
    "# Ton-IoT 데이터셋 크기에 맞게 Sampling"
   ]
  },
  {
   "cell_type": "code",
   "execution_count": null,
   "id": "c0b1b32b",
   "metadata": {},
   "outputs": [],
   "source": [
    "cic_s = cic_p.sample(n=461043, replace=False, axis=0)"
   ]
  },
  {
   "cell_type": "code",
   "execution_count": null,
   "id": "469fdbb6",
   "metadata": {},
   "outputs": [],
   "source": [
    "frames = [cic_s, ton_p]\n",
    "df = pd.concat(frames)"
   ]
  },
  {
   "cell_type": "code",
   "execution_count": null,
   "id": "3973fc9a",
   "metadata": {},
   "outputs": [],
   "source": [
    "# 결측값 -1로 댜채"
   ]
  },
  {
   "cell_type": "code",
   "execution_count": null,
   "id": "2297ed77",
   "metadata": {},
   "outputs": [],
   "source": [
    "df.fillna(-1,inplace=True)"
   ]
  },
  {
   "cell_type": "code",
   "execution_count": null,
   "id": "069b097a",
   "metadata": {},
   "outputs": [],
   "source": [
    "ton_p.fillna(-1,inplace=True)"
   ]
  },
  {
   "cell_type": "code",
   "execution_count": null,
   "id": "f961de22",
   "metadata": {},
   "outputs": [],
   "source": [
    "cic_s.fillna(-1,inplace=True)"
   ]
  },
  {
   "cell_type": "code",
   "execution_count": null,
   "id": "bced2300",
   "metadata": {},
   "outputs": [],
   "source": [
    "df.isna().sum()"
   ]
  },
  {
   "cell_type": "code",
   "execution_count": null,
   "id": "631ae862",
   "metadata": {},
   "outputs": [],
   "source": [
    "from sklearn.ensemble import RandomForestClassifier\n",
    "\n",
    "RF = RandomForestClassifier()"
   ]
  },
  {
   "cell_type": "code",
   "execution_count": null,
   "id": "06717121",
   "metadata": {},
   "outputs": [],
   "source": [
    "import pandas as pd\n",
    "from sklearn.svm import SVC\n",
    "from sklearn.model_selection import GridSearchCV\n",
    "from sklearn.metrics import classification_report, confusion_matrix\n",
    "from sklearn.model_selection import train_test_split\n",
    "import time\n",
    "import numpy as np\n",
    "import seaborn as sns\n",
    "import matplotlib.pyplot as plt"
   ]
  },
  {
   "cell_type": "code",
   "execution_count": null,
   "id": "4c7b8338",
   "metadata": {},
   "outputs": [],
   "source": [
    "# 단일 데이터셋(Ton-IoT)으로 테스트"
   ]
  },
  {
   "cell_type": "code",
   "execution_count": null,
   "id": "6cbca02d",
   "metadata": {},
   "outputs": [],
   "source": [
    "X = df[['Flow ID', 'Protocol', 'Flow Duration', 'Total Fwd Packets', 'Total Bwd Packets', 'Fwd Packet Length Mean', 'Bwd Packet Length Mean', 'Fwd Packets/s', 'Bwd Packets/s', 'Packet Length Variance', 'Subflow Bwd Bytes', 'Init_Win_bytes_forward', 'conn_state', 'service']]\n",
    "Y = df['Label']\n",
    "X_train, X_test, Y_train, Y_test = train_test_split(X, Y, random_state=10, test_size=0.2)"
   ]
  },
  {
   "cell_type": "code",
   "execution_count": null,
   "id": "8ccbe86b",
   "metadata": {},
   "outputs": [],
   "source": [
    "Z = ton_p[['Flow ID', 'Protocol', 'Flow Duration', 'Total Fwd Packets', 'Total Bwd Packets', 'Fwd Packet Length Mean', 'Bwd Packet Length Mean', 'Fwd Packets/s', 'Bwd Packets/s', 'Packet Length Variance', 'Subflow Bwd Bytes', 'Init_Win_bytes_forward', 'conn_state', 'service']]\n",
    "W = ton_p['Label']\n",
    "Z_train, Z_test, W_train, W_test = train_test_split(Z, W, random_state=10, test_size=0.4)"
   ]
  },
  {
   "cell_type": "code",
   "execution_count": null,
   "id": "73e4c24c",
   "metadata": {},
   "outputs": [],
   "source": [
    "X_test = Z_test\n",
    "Y_test = W_test"
   ]
  },
  {
   "cell_type": "code",
   "execution_count": null,
   "id": "81bd7564",
   "metadata": {},
   "outputs": [],
   "source": [
    "start = time.time()\n",
    "print('program start...')\n",
    "print()\n",
    "\n",
    "RF.fit(X_train, Y_train)  # fit() : 훈련 수행\n",
    "print()\n",
    "\n",
    "print('prediction:')\n",
    "y_pred = RF.predict(X_test)  # predict() : 모델 훈련 후 예측\n",
    "print(y_pred)\n",
    "print()\n",
    "\n",
    "print('Score:')\n",
    "score = RF.score(X_test,Y_test)  # score() : 평가 점수 계산\n",
    "print(score)\n",
    "\n",
    "end = time.time()  # 현재 시각 구하기\n",
    "print('program end...')\n",
    "print()\n",
    "print('time cost: ')\n",
    "print(end - start, 'seconds')\n",
    "\n",
    "print(\"Classifiction Report :\")\n",
    "print(classification_report(Y_test, y_pred))"
   ]
  },
  {
   "cell_type": "code",
   "execution_count": null,
   "id": "871e539e",
   "metadata": {},
   "outputs": [],
   "source": [
    "# 이종의 데이터셋으로 테스트"
   ]
  },
  {
   "cell_type": "code",
   "execution_count": null,
   "id": "2f90f242",
   "metadata": {},
   "outputs": [],
   "source": [
    "X = df[['Flow ID', 'Protocol', 'Flow Duration', 'Total Fwd Packets', 'Total Bwd Packets', 'Fwd Packet Length Mean', 'Bwd Packet Length Mean', 'Fwd Packets/s', 'Bwd Packets/s', 'Packet Length Variance', 'Subflow Bwd Bytes', 'Init_Win_bytes_forward', 'conn_state', 'service']]\n",
    "Y = df['Label']\n",
    "X_train, X_test, Y_train, Y_test = train_test_split(X, Y, random_state=10, test_size=0.2)"
   ]
  },
  {
   "cell_type": "code",
   "execution_count": null,
   "id": "25e17ddf",
   "metadata": {},
   "outputs": [],
   "source": [
    "start = time.time()\n",
    "print('program start...')\n",
    "print()\n",
    "\n",
    "RF.fit(X_train, Y_train)  # fit() : 훈련 수행\n",
    "print()\n",
    "\n",
    "print('prediction:')\n",
    "y_pred = RF.predict(X_test)  # predict() : 모델 훈련 후 예측\n",
    "print(y_pred)\n",
    "print()\n",
    "\n",
    "print('Score:')\n",
    "score = RF.score(X_test,Y_test)  # score() : 평가 점수 계산\n",
    "print(score)\n",
    "\n",
    "end = time.time()  # 현재 시각 구하기\n",
    "print('program end...')\n",
    "print()\n",
    "print('time cost: ')\n",
    "print(end - start, 'seconds')\n",
    "\n",
    "print(\"Classifiction Report :\")\n",
    "print(classification_report(Y_test, y_pred))"
   ]
  }
 ],
 "metadata": {
  "kernelspec": {
   "display_name": "Python 3 (ipykernel)",
   "language": "python",
   "name": "python3"
  },
  "language_info": {
   "codemirror_mode": {
    "name": "ipython",
    "version": 3
   },
   "file_extension": ".py",
   "mimetype": "text/x-python",
   "name": "python",
   "nbconvert_exporter": "python",
   "pygments_lexer": "ipython3",
   "version": "3.9.12"
  }
 },
 "nbformat": 4,
 "nbformat_minor": 5
}
