{
 "cells": [
  {
   "cell_type": "code",
   "execution_count": null,
   "id": "ac1e9392",
   "metadata": {},
   "outputs": [],
   "source": [
    "import pandas as pd\n",
    "from sklearn.svm import SVC\n",
    "from sklearn.model_selection import GridSearchCV\n",
    "from sklearn.metrics import classification_report, confusion_matrix\n",
    "from sklearn.model_selection import train_test_split\n",
    "import time\n",
    "import numpy as np\n",
    "import seaborn as sns"
   ]
  },
  {
   "cell_type": "code",
   "execution_count": null,
   "id": "0617ecab",
   "metadata": {},
   "outputs": [],
   "source": [
    "#최대한 많은 공통 feature를 만들기 위해 전처리 되기 전의 IoT-23 데이터셋을 사용\n",
    "iotd = pd.read_csv(\"iot23_not_preprocessed.csv\")"
   ]
  },
  {
   "cell_type": "code",
   "execution_count": null,
   "id": "5a5a7691",
   "metadata": {},
   "outputs": [],
   "source": [
    "#결측값 등이 처리 완료된 CICIDS2017 데이터셋을 사용\n",
    "cic = pd.read_csv(\"cicids2017_preprocessed.csv\")"
   ]
  },
  {
   "cell_type": "code",
   "execution_count": null,
   "id": "a977249c",
   "metadata": {},
   "outputs": [],
   "source": [
    "#이종의 데이터셋을 5:5 비율로 학습하기 위해 CICIDS2017을 IoT-23 개수만큼 랜덤 추출\n",
    "cicd = cic.sample(n=1444674, replace=False, axis=0)"
   ]
  },
  {
   "cell_type": "code",
   "execution_count": null,
   "id": "8378b91f",
   "metadata": {},
   "outputs": [],
   "source": [
    "del iotd['Unnamed: 0']"
   ]
  },
  {
   "cell_type": "code",
   "execution_count": null,
   "id": "5e6e0273",
   "metadata": {},
   "outputs": [],
   "source": [
    "iotd['duration'] = iotd['duration'].str.replace('-','0')\n",
    "iotd['orig_bytes'] = iotd['orig_bytes'].str.replace('-','0')\n",
    "iotd['resp_bytes'] = iotd['resp_bytes'].str.replace('-','0')"
   ]
  },
  {
   "cell_type": "code",
   "execution_count": null,
   "id": "f545e2f3",
   "metadata": {},
   "outputs": [],
   "source": [
    "iotd.loc[(iotd.label == '-   Malicious   PartOfAHorizontalPortScan'), 'label'] = 'PartOfAHorizontalPortScan'\n",
    "iotd.loc[(iotd.label == '(empty)   Malicious   PartOfAHorizontalPortScan'), 'label'] = 'PartOfAHorizontalPortScan'\n",
    "iotd.loc[(iotd.label == '-   Malicious   Okiru'), 'label'] = 'Okiru'\n",
    "iotd.loc[(iotd.label == '(empty)   Malicious   Okiru'), 'label'] = 'Okiru'\n",
    "iotd.loc[(iotd.label == '-   Benign   -'), 'label'] = 'Benign'\n",
    "iotd.loc[(iotd.label == '(empty)   Benign   -'), 'label'] = 'Benign'\n",
    "iotd.loc[(iotd.label == '-   Malicious   DDoS'), 'label'] = 'DDoS'\n",
    "iotd.loc[(iotd.label == '-   Malicious   C&C'), 'label'] = 'C&C'\n",
    "iotd.loc[(iotd.label == '(empty)   Malicious   C&C'), 'label'] = 'C&C'\n",
    "iotd.loc[(iotd.label == '-   Malicious   Attack'), 'label'] = 'Attack'\n",
    "iotd.loc[(iotd.label == '(empty)   Malicious   Attack'), 'label'] = 'Attack'\n",
    "iotd.loc[(iotd.label == '-   Malicious   C&C-HeartBeat'), 'label'] = 'C&C-HeartBeat'\n",
    "iotd.loc[(iotd.label == '(empty)   Malicious   C&C-HeartBeat'), 'label'] = 'C&C-HeartBeat'\n",
    "iotd.loc[(iotd.label == '-   Malicious   C&C-FileDownload'), 'label'] = 'C&C-FileDownload'\n",
    "iotd.loc[(iotd.label == '-   Malicious   C&C-Torii'), 'label'] = 'C&C-Torii'\n",
    "iotd.loc[(iotd.label == '-   Malicious   C&C-HeartBeat-FileDownload'), 'label'] = 'C&C-HeartBeat-FileDownload'\n",
    "iotd.loc[(iotd.label == '-   Malicious   FileDownload'), 'label'] = 'FileDownload'\n",
    "iotd.loc[(iotd.label == '-   Malicious   C&C-Mirai'), 'label'] = 'C&C-Mirai'\n",
    "iotd.loc[(iotd.label == '-   Malicious   Okiru-Attack'), 'label'] = 'Okiru-Attack'"
   ]
  },
  {
   "cell_type": "code",
   "execution_count": null,
   "id": "abadf41c",
   "metadata": {},
   "outputs": [],
   "source": [
    "cicd['Label'].value_counts()"
   ]
  },
  {
   "cell_type": "code",
   "execution_count": null,
   "id": "b821bf08",
   "metadata": {},
   "outputs": [],
   "source": [
    "#공통 feature 9개를 제외한 나머지 feature drop\n",
    "iotd = iotd.drop(columns=['ts', 'uid', 'service', 'conn_state', 'history', 'id.orig_h', 'id.orig_p', 'id.resp_h', 'id.resp_p', 'local_orig', 'local_resp','missed_bytes'])"
   ]
  },
  {
   "cell_type": "code",
   "execution_count": null,
   "id": "4d8247e7",
   "metadata": {},
   "outputs": [],
   "source": [
    "#공통 feature 9개를 제외한 나머지 feature drop\n",
    "cicd = cicd.drop(columns=['Flow ID', 'Source IP', 'Source Port', 'Destination IP', 'Destination Port', 'Timestamp', 'Total Length of Fwd Packets', 'Total Length of Bwd Packets', 'Fwd Packet Length Max', 'Fwd Packet Length Min', 'Fwd Packet Length Std', 'Bwd Packet Length Max', 'Bwd Packet Length Min', 'Bwd Packet Length Std', 'Flow Bytes/s', 'Flow Packets/s', 'Flow IAT Mean', 'Flow IAT Std', 'Flow IAT Max', 'Flow IAT Min', 'Fwd IAT Total', 'Fwd IAT Mean', 'Fwd IAT Std', 'Fwd IAT Max', 'Fwd IAT Min', 'Bwd IAT Total', 'Bwd IAT Mean', 'Bwd IAT Std', 'Bwd IAT Max', 'Bwd IAT Min', 'Fwd PSH Flags', 'Bwd PSH Flags', 'Fwd URG Flags', 'Bwd URG Flags', 'Fwd Header Length', 'Bwd Header Length','Min Packet Length', 'Max Packet Length', 'Packet Length Mean', 'Packet Length Std', 'Packet Length Variance', 'FIN Flag Count', 'SYN Flag Count', 'RST Flag Count', 'PSH Flag Count', 'ACK Flag Count', 'URG Flag Count', 'CWE Flag Count', 'ECE Flag Count', 'Down/Up Ratio', 'Average Packet Size', 'Avg Fwd Segment Size', 'Avg Bwd Segment Size', 'Fwd Avg Bytes/Bulk', 'Fwd Avg Packets/Bulk', 'Fwd Avg Bulk Rate', 'Bwd Avg Bytes/Bulk', 'Bwd Avg Packets/Bulk', 'Bwd Avg Bulk Rate', 'Subflow Fwd Packets', 'Subflow Fwd Bytes', 'Subflow Bwd Packets', 'Subflow Bwd Bytes', 'Init_Win_bytes_forward', 'Init_Win_bytes_backward', 'act_data_pkt_fwd', 'min_seg_size_forward', 'Active Mean', 'Active Std', 'Active Max', 'Active Min', 'Idle Mean', 'Idle Std', 'Idle Max', 'Idle Min',  'External IP' ])"
   ]
  },
  {
   "cell_type": "code",
   "execution_count": 1,
   "id": "d638d61e",
   "metadata": {},
   "outputs": [
    {
     "ename": "NameError",
     "evalue": "name 'iotd' is not defined",
     "output_type": "error",
     "traceback": [
      "\u001b[1;31m---------------------------------------------------------------------------\u001b[0m",
      "\u001b[1;31mNameError\u001b[0m                                 Traceback (most recent call last)",
      "\u001b[1;32m<ipython-input-1-f4dc4ae62518>\u001b[0m in \u001b[0;36m<module>\u001b[1;34m\u001b[0m\n\u001b[1;32m----> 1\u001b[1;33m \u001b[0miotd\u001b[0m \u001b[1;33m=\u001b[0m \u001b[0miotd\u001b[0m\u001b[1;33m.\u001b[0m\u001b[0mrename\u001b[0m\u001b[1;33m(\u001b[0m\u001b[0mcolumns\u001b[0m\u001b[1;33m=\u001b[0m\u001b[1;33m{\u001b[0m\u001b[1;34m'duration'\u001b[0m\u001b[1;33m:\u001b[0m\u001b[1;34m'Flow Duration'\u001b[0m\u001b[1;33m,\u001b[0m\u001b[1;34m'orig_pkts'\u001b[0m\u001b[1;33m:\u001b[0m\u001b[1;34m'Total Fwd Packets'\u001b[0m\u001b[1;33m,\u001b[0m \u001b[1;34m'resp_pkts'\u001b[0m\u001b[1;33m:\u001b[0m\u001b[1;34m'Total Backward Packets'\u001b[0m\u001b[1;33m,\u001b[0m \u001b[1;34m'proto'\u001b[0m\u001b[1;33m:\u001b[0m\u001b[1;34m'Protocol'\u001b[0m\u001b[1;33m,\u001b[0m \u001b[1;34m'orig_bytes'\u001b[0m\u001b[1;33m:\u001b[0m\u001b[1;34m'Fwd Packet Length Mean'\u001b[0m \u001b[1;33m,\u001b[0m \u001b[1;34m'resp_bytes'\u001b[0m\u001b[1;33m:\u001b[0m \u001b[1;34m'Bwd Packet Length Mean'\u001b[0m \u001b[1;33m,\u001b[0m \u001b[1;34m'orig_ip_bytes'\u001b[0m\u001b[1;33m:\u001b[0m \u001b[1;34m'Fwd Packets/s'\u001b[0m \u001b[1;33m,\u001b[0m\u001b[1;34m'resp_ip_bytes'\u001b[0m\u001b[1;33m:\u001b[0m \u001b[1;34m'Bwd Packets/s'\u001b[0m \u001b[1;33m,\u001b[0m\u001b[1;34m'label'\u001b[0m\u001b[1;33m:\u001b[0m \u001b[1;34m'Label'\u001b[0m \u001b[1;33m}\u001b[0m\u001b[1;33m)\u001b[0m\u001b[1;33m\u001b[0m\u001b[1;33m\u001b[0m\u001b[0m\n\u001b[0m",
      "\u001b[1;31mNameError\u001b[0m: name 'iotd' is not defined"
     ]
    }
   ],
   "source": [
    "#같은 뜻이나 이름이 다른 feature들을 rename해 매칭\n",
    "iotd = iotd.rename(columns={'duration':'Flow Duration','orig_pkts':'Total Fwd Packets', 'resp_pkts':'Total Backward Packets', 'proto':'Protocol', 'orig_bytes':'Fwd Packet Length Mean' , 'resp_bytes': 'Bwd Packet Length Mean' , 'orig_ip_bytes': 'Fwd Packets/s' ,'resp_ip_bytes': 'Bwd Packets/s' ,'label': 'Label' })"
   ]
  },
  {
   "cell_type": "code",
   "execution_count": null,
   "id": "97ddf223",
   "metadata": {},
   "outputs": [],
   "source": [
    "#같은 공격끼리 공격명 통일\n",
    "iotd = iotd.replace('Benign', 'BENIGN' )\n",
    "iotd = iotd.replace('C&C-HeartBeat', 'C&C' )\n",
    "iotd = iotd.replace('C&C-FileDownload', 'C&C' )\n",
    "iotd = iotd.replace('C&C-Torii', 'C&C' )\n",
    "iotd = iotd.replace('C&C-HeartBeat-FileDownload', 'C&C' )\n",
    "iotd = iotd.replace('C&C-Mirai', 'C&C' )\n",
    "iotd = iotd.replace('PartOfAHorizontalPortScan', 'PortScan' )\n",
    "\n",
    "iotd = iotd.replace('tcp', '6' )\n",
    "iotd = iotd.replace('udp', '17' )\n",
    "iotd = iotd.replace('icmp', '1' )"
   ]
  },
  {
   "cell_type": "code",
   "execution_count": null,
   "id": "30f9685a",
   "metadata": {},
   "outputs": [],
   "source": [
    "iotd['Label'].value_counts()"
   ]
  },
  {
   "cell_type": "code",
   "execution_count": null,
   "id": "315f13c2",
   "metadata": {},
   "outputs": [],
   "source": [
    "cicd['Label'].value_counts()"
   ]
  },
  {
   "cell_type": "code",
   "execution_count": null,
   "id": "096fe7fa",
   "metadata": {},
   "outputs": [],
   "source": [
    "#CICIDS2017 데이터셋 내 종류가 다양한 DoS를 모두 DoS로 통일\n",
    "cicd = cicd.replace('DoS Hulk', 'DoS' )\n",
    "cicd = cicd.replace('DoS GoldenEye', 'DoS' )\n",
    "cicd = cicd.replace('DoS slowloris', 'DoS' )\n",
    "cicd = cicd.replace('DoS Slowhttptest', 'DoS' )"
   ]
  },
  {
   "cell_type": "code",
   "execution_count": null,
   "id": "ae7b4565",
   "metadata": {},
   "outputs": [],
   "source": [
    "frames = [iotd, cicd]\n",
    "df_h = pd.concat(frames)"
   ]
  },
  {
   "cell_type": "code",
   "execution_count": null,
   "id": "bef652e8",
   "metadata": {},
   "outputs": [],
   "source": [
    "#결측값 채움\n",
    "iotd.fillna(-1,inplace=True)\n",
    "cicd.fillna(-1,inplace=True)\n",
    "df_h.fillna(-1,inplace=True)"
   ]
  },
  {
   "cell_type": "code",
   "execution_count": null,
   "id": "e057b290",
   "metadata": {},
   "outputs": [],
   "source": [
    "iotd.isna().sum()"
   ]
  },
  {
   "cell_type": "code",
   "execution_count": null,
   "id": "1c059442",
   "metadata": {},
   "outputs": [],
   "source": [
    "from sklearn.ensemble import RandomForestClassifier\n",
    "\n",
    "RF = RandomForestClassifier()"
   ]
  },
  {
   "cell_type": "code",
   "execution_count": null,
   "id": "1abfc33f",
   "metadata": {},
   "outputs": [],
   "source": [
    "#이종의 데이터셋으로 학습\n",
    "X = df_h[['Protocol', 'Flow Duration', 'Total Fwd Packets', 'Total Backward Packets', 'Fwd Packet Length Mean', 'Bwd Packet Length Mean', 'Fwd Packets/s', 'Bwd Packets/s']]\n",
    "Y = df_h['Label']\n",
    "X_train, X_test, Y_train, Y_test = train_test_split(X, Y, random_state=10, test_size=0.2)"
   ]
  },
  {
   "cell_type": "code",
   "execution_count": null,
   "id": "00b77d89",
   "metadata": {},
   "outputs": [],
   "source": [
    "#CICIDS2017로 테스트한 경우\n",
    "Z = cicd[['Protocol', 'Flow Duration', 'Total Fwd Packets', 'Total Backward Packets', 'Fwd Packet Length Mean', 'Bwd Packet Length Mean', 'Fwd Packets/s', 'Bwd Packets/s']]\n",
    "W = cicd['Label']\n",
    "Z_train, Z_test, W_train, W_test = train_test_split(Z, W, random_state=10, test_size=0.4)"
   ]
  },
  {
   "cell_type": "code",
   "execution_count": null,
   "id": "ad50ef5c",
   "metadata": {},
   "outputs": [],
   "source": [
    "X_test = Z_test\n",
    "Y_test = W_test"
   ]
  },
  {
   "cell_type": "code",
   "execution_count": null,
   "id": "2258f324",
   "metadata": {},
   "outputs": [],
   "source": [
    "start = time.time()\n",
    "print('program start...')\n",
    "print()\n",
    "\n",
    "RF.fit(X_train, Y_train)  # fit() : 훈련 수행\n",
    "print()\n",
    "print('prediction:')\n",
    "y_pred = RF.predict(X_test)  # predict() : 모델 훈련 후 예측\n",
    "print(y_pred)\n",
    "print()\n",
    "\n",
    "print('Score:')\n",
    "score = RF.score(X_test,Y_test)  # score() : 평가 점수 계산\n",
    "print(score)\n",
    "\n",
    "end = time.time()  # 현재 시각 구하기\n",
    "print('program end...')\n",
    "print()\n",
    "print('time cost: ')\n",
    "print(end - start, 'seconds')\n",
    "print(\"Classifiction Report :\")\n",
    "print(classification_report(Y_test, y_pred))"
   ]
  }
 ],
 "metadata": {
  "kernelspec": {
   "display_name": "Python 3",
   "language": "python",
   "name": "python3"
  },
  "language_info": {
   "codemirror_mode": {
    "name": "ipython",
    "version": 3
   },
   "file_extension": ".py",
   "mimetype": "text/x-python",
   "name": "python",
   "nbconvert_exporter": "python",
   "pygments_lexer": "ipython3",
   "version": "3.8.8"
  }
 },
 "nbformat": 4,
 "nbformat_minor": 5
}
